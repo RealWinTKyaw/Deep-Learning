{
 "cells": [
  {
   "cell_type": "code",
   "execution_count": 1,
   "id": "89eaf909",
   "metadata": {},
   "outputs": [
    {
     "name": "stdout",
     "output_type": "stream",
     "text": [
      "Requirement already satisfied: pytorch-model-summary in c:\\users\\varsh\\anaconda3\\lib\\site-packages (0.1.2)\n",
      "Requirement already satisfied: torch in c:\\users\\varsh\\anaconda3\\lib\\site-packages (from pytorch-model-summary) (1.13.1)\n",
      "Requirement already satisfied: tqdm in c:\\users\\varsh\\anaconda3\\lib\\site-packages (from pytorch-model-summary) (4.62.3)\n",
      "Requirement already satisfied: numpy in c:\\users\\varsh\\anaconda3\\lib\\site-packages (from pytorch-model-summary) (1.20.3)\n",
      "Requirement already satisfied: typing_extensions in c:\\users\\varsh\\anaconda3\\lib\\site-packages (from torch->pytorch-model-summary) (3.10.0.2)\n",
      "Requirement already satisfied: colorama in c:\\users\\varsh\\anaconda3\\lib\\site-packages (from tqdm->pytorch-model-summary) (0.4.4)\n",
      "Note: you may need to restart the kernel to use updated packages.\n"
     ]
    }
   ],
   "source": [
    "pip install pytorch-model-summary"
   ]
  },
  {
   "cell_type": "code",
   "execution_count": 2,
   "id": "19fe2912",
   "metadata": {},
   "outputs": [
    {
     "name": "stdout",
     "output_type": "stream",
     "text": [
      "Requirement already satisfied: torchsampler in c:\\users\\varsh\\anaconda3\\lib\\site-packages (0.1.2)\n",
      "Requirement already satisfied: pandas in c:\\users\\varsh\\anaconda3\\lib\\site-packages (from torchsampler) (1.3.4)\n",
      "Requirement already satisfied: torch>=1.3 in c:\\users\\varsh\\anaconda3\\lib\\site-packages (from torchsampler) (1.13.1)\n",
      "Requirement already satisfied: torchvision>=0.5 in c:\\users\\varsh\\anaconda3\\lib\\site-packages (from torchsampler) (0.14.1)\n",
      "Requirement already satisfied: typing_extensions in c:\\users\\varsh\\anaconda3\\lib\\site-packages (from torch>=1.3->torchsampler) (3.10.0.2)\n",
      "Requirement already satisfied: numpy in c:\\users\\varsh\\anaconda3\\lib\\site-packages (from torchvision>=0.5->torchsampler) (1.20.3)\n",
      "Requirement already satisfied: requests in c:\\users\\varsh\\anaconda3\\lib\\site-packages (from torchvision>=0.5->torchsampler) (2.26.0)\n",
      "Requirement already satisfied: pillow!=8.3.*,>=5.3.0 in c:\\users\\varsh\\anaconda3\\lib\\site-packages (from torchvision>=0.5->torchsampler) (8.4.0)\n",
      "Requirement already satisfied: python-dateutil>=2.7.3 in c:\\users\\varsh\\anaconda3\\lib\\site-packages (from pandas->torchsampler) (2.8.2)\n",
      "Requirement already satisfied: pytz>=2017.3 in c:\\users\\varsh\\anaconda3\\lib\\site-packages (from pandas->torchsampler) (2021.3)\n",
      "Requirement already satisfied: six>=1.5 in c:\\users\\varsh\\anaconda3\\lib\\site-packages (from python-dateutil>=2.7.3->pandas->torchsampler) (1.16.0)\n",
      "Requirement already satisfied: charset-normalizer~=2.0.0 in c:\\users\\varsh\\anaconda3\\lib\\site-packages (from requests->torchvision>=0.5->torchsampler) (2.0.4)\n",
      "Requirement already satisfied: urllib3<1.27,>=1.21.1 in c:\\users\\varsh\\anaconda3\\lib\\site-packages (from requests->torchvision>=0.5->torchsampler) (1.26.7)\n",
      "Requirement already satisfied: idna<4,>=2.5 in c:\\users\\varsh\\anaconda3\\lib\\site-packages (from requests->torchvision>=0.5->torchsampler) (3.2)\n",
      "Requirement already satisfied: certifi>=2017.4.17 in c:\\users\\varsh\\anaconda3\\lib\\site-packages (from requests->torchvision>=0.5->torchsampler) (2022.12.7)\n",
      "Note: you may need to restart the kernel to use updated packages.\n"
     ]
    }
   ],
   "source": [
    "pip install torchsampler"
   ]
  },
  {
   "cell_type": "code",
   "execution_count": 1,
   "id": "fc2ada88",
   "metadata": {},
   "outputs": [],
   "source": [
    "import matplotlib.pyplot as plt\n",
    "import torch\n",
    "import torchvision\n",
    "from torchvision import models\n",
    "from torchvision.datasets import ImageFolder\n",
    "from torchvision.transforms import ToTensor, Compose, Resize, RandomHorizontalFlip, Grayscale\n",
    "import torch.optim as optim\n",
    "import torch.nn.functional as F\n",
    "import torch.nn as nn\n",
    "from pytorch_model_summary import summary\n",
    "from helpers import *"
   ]
  },
  {
   "cell_type": "code",
   "execution_count": 2,
   "id": "1f653c79",
   "metadata": {},
   "outputs": [],
   "source": [
    "# pip install torchsampler\n",
    "from torchsampler import ImbalancedDatasetSampler"
   ]
  },
  {
   "cell_type": "code",
   "execution_count": 52,
   "id": "488a00e6",
   "metadata": {},
   "outputs": [
    {
     "data": {
      "text/plain": [
       "<torch._C.Generator at 0x19fbbff51f0>"
      ]
     },
     "execution_count": 52,
     "metadata": {},
     "output_type": "execute_result"
    }
   ],
   "source": [
    "torch.manual_seed(42)"
   ]
  },
  {
   "cell_type": "code",
   "execution_count": 10,
   "id": "22723c10",
   "metadata": {},
   "outputs": [
    {
     "name": "stdout",
     "output_type": "stream",
     "text": [
      "cuda\n"
     ]
    }
   ],
   "source": [
    "device = torch.device(\"cuda\" if torch.cuda.is_available() else \"cpu\")\n",
    "print(device)"
   ]
  },
  {
   "cell_type": "code",
   "execution_count": 3,
   "id": "bfd47b62",
   "metadata": {},
   "outputs": [],
   "source": [
    "size = 32\n",
    "batch_size = 128\n",
    "transformation = Compose([RandomHorizontalFlip(), Grayscale(), Resize((size, size)), ToTensor()])"
   ]
  },
  {
   "cell_type": "code",
   "execution_count": 4,
   "id": "36d25dc0",
   "metadata": {},
   "outputs": [],
   "source": [
    "root = 'chest_xray/train'\n",
    "train_data = create_dataset(root, transformation)\n",
    "train_loader = produce_loader(train_data, batch_size, shuffle=True)"
   ]
  },
  {
   "cell_type": "code",
   "execution_count": 5,
   "id": "57e1ae0b",
   "metadata": {},
   "outputs": [],
   "source": [
    "root = 'chest_xray/test'\n",
    "test_data = create_dataset(root, transformation)\n",
    "test_loader = produce_loader(test_data, batch_size)"
   ]
  },
  {
   "cell_type": "code",
   "execution_count": 6,
   "id": "9b2a5ad9",
   "metadata": {},
   "outputs": [],
   "source": [
    "root = 'chest_xray/val'\n",
    "val_data = create_dataset(root, transformation)\n",
    "val_loader = produce_loader(val_data, batch_size)"
   ]
  },
  {
   "cell_type": "code",
   "execution_count": 7,
   "id": "7b907f7a",
   "metadata": {},
   "outputs": [
    {
     "name": "stdout",
     "output_type": "stream",
     "text": [
      "[3119, 110, 5087, 4190, 4784, 3095, 3941, 3304, 5780]\n"
     ]
    },
    {
     "data": {
      "image/png": "[encoded data removed]",
      "text/plain": [
       "<Figure size 576x576 with 9 Axes>"
      ]
     },
     "metadata": {
      "needs_background": "light"
     },
     "output_type": "display_data"
    }
   ],
   "source": [
    "visualize_data(train_data)"
   ]
  },
  {
   "cell_type": "code",
   "execution_count": 8,
   "id": "879c567c",
   "metadata": {},
   "outputs": [
    {
     "name": "stdout",
     "output_type": "stream",
     "text": [
      "[393, 327, 48, 112, 451, 547, 220, 314, 513]\n"
     ]
    },
    {
     "data": {
      "image/png": "[encoded data removed]",
      "text/plain": [
       "<Figure size 576x576 with 9 Axes>"
      ]
     },
     "metadata": {
      "needs_background": "light"
     },
     "output_type": "display_data"
    }
   ],
   "source": [
    "visualize_data(test_data)"
   ]
  },
  {
   "cell_type": "code",
   "execution_count": 11,
   "id": "e9072b48",
   "metadata": {},
   "outputs": [
    {
     "name": "stdout",
     "output_type": "stream",
     "text": [
      "ResNet(\n",
      "  (conv1): Conv2d(3, 64, kernel_size=(7, 7), stride=(2, 2), padding=(3, 3), bias=False)\n",
      "  (bn1): BatchNorm2d(64, eps=1e-05, momentum=0.1, affine=True, track_running_stats=True)\n",
      "  (relu): ReLU(inplace=True)\n",
      "  (maxpool): MaxPool2d(kernel_size=3, stride=2, padding=1, dilation=1, ceil_mode=False)\n",
      "  (layer1): Sequential(\n",
      "    (0): BasicBlock(\n",
      "      (conv1): Conv2d(64, 64, kernel_size=(3, 3), stride=(1, 1), padding=(1, 1), bias=False)\n",
      "      (bn1): BatchNorm2d(64, eps=1e-05, momentum=0.1, affine=True, track_running_stats=True)\n",
      "      (relu): ReLU(inplace=True)\n",
      "      (conv2): Conv2d(64, 64, kernel_size=(3, 3), stride=(1, 1), padding=(1, 1), bias=False)\n",
      "      (bn2): BatchNorm2d(64, eps=1e-05, momentum=0.1, affine=True, track_running_stats=True)\n",
      "    )\n",
      "    (1): BasicBlock(\n",
      "      (conv1): Conv2d(64, 64, kernel_size=(3, 3), stride=(1, 1), padding=(1, 1), bias=False)\n",
      "      (bn1): BatchNorm2d(64, eps=1e-05, momentum=0.1, affine=True, track_running_stats=True)\n",
      "      (relu): ReLU(inplace=True)\n",
      "      (conv2): Conv2d(64, 64, kernel_size=(3, 3), stride=(1, 1), padding=(1, 1), bias=False)\n",
      "      (bn2): BatchNorm2d(64, eps=1e-05, momentum=0.1, affine=True, track_running_stats=True)\n",
      "    )\n",
      "    (2): BasicBlock(\n",
      "      (conv1): Conv2d(64, 64, kernel_size=(3, 3), stride=(1, 1), padding=(1, 1), bias=False)\n",
      "      (bn1): BatchNorm2d(64, eps=1e-05, momentum=0.1, affine=True, track_running_stats=True)\n",
      "      (relu): ReLU(inplace=True)\n",
      "      (conv2): Conv2d(64, 64, kernel_size=(3, 3), stride=(1, 1), padding=(1, 1), bias=False)\n",
      "      (bn2): BatchNorm2d(64, eps=1e-05, momentum=0.1, affine=True, track_running_stats=True)\n",
      "    )\n",
      "  )\n",
      "  (layer2): Sequential(\n",
      "    (0): BasicBlock(\n",
      "      (conv1): Conv2d(64, 128, kernel_size=(3, 3), stride=(2, 2), padding=(1, 1), bias=False)\n",
      "      (bn1): BatchNorm2d(128, eps=1e-05, momentum=0.1, affine=True, track_running_stats=True)\n",
      "      (relu): ReLU(inplace=True)\n",
      "      (conv2): Conv2d(128, 128, kernel_size=(3, 3), stride=(1, 1), padding=(1, 1), bias=False)\n",
      "      (bn2): BatchNorm2d(128, eps=1e-05, momentum=0.1, affine=True, track_running_stats=True)\n",
      "      (downsample): Sequential(\n",
      "        (0): Conv2d(64, 128, kernel_size=(1, 1), stride=(2, 2), bias=False)\n",
      "        (1): BatchNorm2d(128, eps=1e-05, momentum=0.1, affine=True, track_running_stats=True)\n",
      "      )\n",
      "    )\n",
      "    (1): BasicBlock(\n",
      "      (conv1): Conv2d(128, 128, kernel_size=(3, 3), stride=(1, 1), padding=(1, 1), bias=False)\n",
      "      (bn1): BatchNorm2d(128, eps=1e-05, momentum=0.1, affine=True, track_running_stats=True)\n",
      "      (relu): ReLU(inplace=True)\n",
      "      (conv2): Conv2d(128, 128, kernel_size=(3, 3), stride=(1, 1), padding=(1, 1), bias=False)\n",
      "      (bn2): BatchNorm2d(128, eps=1e-05, momentum=0.1, affine=True, track_running_stats=True)\n",
      "    )\n",
      "    (2): BasicBlock(\n",
      "      (conv1): Conv2d(128, 128, kernel_size=(3, 3), stride=(1, 1), padding=(1, 1), bias=False)\n",
      "      (bn1): BatchNorm2d(128, eps=1e-05, momentum=0.1, affine=True, track_running_stats=True)\n",
      "      (relu): ReLU(inplace=True)\n",
      "      (conv2): Conv2d(128, 128, kernel_size=(3, 3), stride=(1, 1), padding=(1, 1), bias=False)\n",
      "      (bn2): BatchNorm2d(128, eps=1e-05, momentum=0.1, affine=True, track_running_stats=True)\n",
      "    )\n",
      "    (3): BasicBlock(\n",
      "      (conv1): Conv2d(128, 128, kernel_size=(3, 3), stride=(1, 1), padding=(1, 1), bias=False)\n",
      "      (bn1): BatchNorm2d(128, eps=1e-05, momentum=0.1, affine=True, track_running_stats=True)\n",
      "      (relu): ReLU(inplace=True)\n",
      "      (conv2): Conv2d(128, 128, kernel_size=(3, 3), stride=(1, 1), padding=(1, 1), bias=False)\n",
      "      (bn2): BatchNorm2d(128, eps=1e-05, momentum=0.1, affine=True, track_running_stats=True)\n",
      "    )\n",
      "  )\n",
      "  (layer3): Sequential(\n",
      "    (0): BasicBlock(\n",
      "      (conv1): Conv2d(128, 256, kernel_size=(3, 3), stride=(2, 2), padding=(1, 1), bias=False)\n",
      "      (bn1): BatchNorm2d(256, eps=1e-05, momentum=0.1, affine=True, track_running_stats=True)\n",
      "      (relu): ReLU(inplace=True)\n",
      "      (conv2): Conv2d(256, 256, kernel_size=(3, 3), stride=(1, 1), padding=(1, 1), bias=False)\n",
      "      (bn2): BatchNorm2d(256, eps=1e-05, momentum=0.1, affine=True, track_running_stats=True)\n",
      "      (downsample): Sequential(\n",
      "        (0): Conv2d(128, 256, kernel_size=(1, 1), stride=(2, 2), bias=False)\n",
      "        (1): BatchNorm2d(256, eps=1e-05, momentum=0.1, affine=True, track_running_stats=True)\n",
      "      )\n",
      "    )\n",
      "    (1): BasicBlock(\n",
      "      (conv1): Conv2d(256, 256, kernel_size=(3, 3), stride=(1, 1), padding=(1, 1), bias=False)\n",
      "      (bn1): BatchNorm2d(256, eps=1e-05, momentum=0.1, affine=True, track_running_stats=True)\n",
      "      (relu): ReLU(inplace=True)\n",
      "      (conv2): Conv2d(256, 256, kernel_size=(3, 3), stride=(1, 1), padding=(1, 1), bias=False)\n",
      "      (bn2): BatchNorm2d(256, eps=1e-05, momentum=0.1, affine=True, track_running_stats=True)\n",
      "    )\n",
      "    (2): BasicBlock(\n",
      "      (conv1): Conv2d(256, 256, kernel_size=(3, 3), stride=(1, 1), padding=(1, 1), bias=False)\n",
      "      (bn1): BatchNorm2d(256, eps=1e-05, momentum=0.1, affine=True, track_running_stats=True)\n",
      "      (relu): ReLU(inplace=True)\n",
      "      (conv2): Conv2d(256, 256, kernel_size=(3, 3), stride=(1, 1), padding=(1, 1), bias=False)\n",
      "      (bn2): BatchNorm2d(256, eps=1e-05, momentum=0.1, affine=True, track_running_stats=True)\n",
      "    )\n",
      "    (3): BasicBlock(\n",
      "      (conv1): Conv2d(256, 256, kernel_size=(3, 3), stride=(1, 1), padding=(1, 1), bias=False)\n",
      "      (bn1): BatchNorm2d(256, eps=1e-05, momentum=0.1, affine=True, track_running_stats=True)\n",
      "      (relu): ReLU(inplace=True)\n",
      "      (conv2): Conv2d(256, 256, kernel_size=(3, 3), stride=(1, 1), padding=(1, 1), bias=False)\n",
      "      (bn2): BatchNorm2d(256, eps=1e-05, momentum=0.1, affine=True, track_running_stats=True)\n",
      "    )\n",
      "    (4): BasicBlock(\n",
      "      (conv1): Conv2d(256, 256, kernel_size=(3, 3), stride=(1, 1), padding=(1, 1), bias=False)\n",
      "      (bn1): BatchNorm2d(256, eps=1e-05, momentum=0.1, affine=True, track_running_stats=True)\n",
      "      (relu): ReLU(inplace=True)\n",
      "      (conv2): Conv2d(256, 256, kernel_size=(3, 3), stride=(1, 1), padding=(1, 1), bias=False)\n",
      "      (bn2): BatchNorm2d(256, eps=1e-05, momentum=0.1, affine=True, track_running_stats=True)\n",
      "    )\n",
      "    (5): BasicBlock(\n",
      "      (conv1): Conv2d(256, 256, kernel_size=(3, 3), stride=(1, 1), padding=(1, 1), bias=False)\n",
      "      (bn1): BatchNorm2d(256, eps=1e-05, momentum=0.1, affine=True, track_running_stats=True)\n",
      "      (relu): ReLU(inplace=True)\n",
      "      (conv2): Conv2d(256, 256, kernel_size=(3, 3), stride=(1, 1), padding=(1, 1), bias=False)\n",
      "      (bn2): BatchNorm2d(256, eps=1e-05, momentum=0.1, affine=True, track_running_stats=True)\n",
      "    )\n",
      "  )\n",
      "  (layer4): Sequential(\n",
      "    (0): BasicBlock(\n",
      "      (conv1): Conv2d(256, 512, kernel_size=(3, 3), stride=(2, 2), padding=(1, 1), bias=False)\n",
      "      (bn1): BatchNorm2d(512, eps=1e-05, momentum=0.1, affine=True, track_running_stats=True)\n",
      "      (relu): ReLU(inplace=True)\n",
      "      (conv2): Conv2d(512, 512, kernel_size=(3, 3), stride=(1, 1), padding=(1, 1), bias=False)\n",
      "      (bn2): BatchNorm2d(512, eps=1e-05, momentum=0.1, affine=True, track_running_stats=True)\n",
      "      (downsample): Sequential(\n",
      "        (0): Conv2d(256, 512, kernel_size=(1, 1), stride=(2, 2), bias=False)\n",
      "        (1): BatchNorm2d(512, eps=1e-05, momentum=0.1, affine=True, track_running_stats=True)\n",
      "      )\n",
      "    )\n",
      "    (1): BasicBlock(\n",
      "      (conv1): Conv2d(512, 512, kernel_size=(3, 3), stride=(1, 1), padding=(1, 1), bias=False)\n",
      "      (bn1): BatchNorm2d(512, eps=1e-05, momentum=0.1, affine=True, track_running_stats=True)\n",
      "      (relu): ReLU(inplace=True)\n",
      "      (conv2): Conv2d(512, 512, kernel_size=(3, 3), stride=(1, 1), padding=(1, 1), bias=False)\n",
      "      (bn2): BatchNorm2d(512, eps=1e-05, momentum=0.1, affine=True, track_running_stats=True)\n",
      "    )\n",
      "    (2): BasicBlock(\n",
      "      (conv1): Conv2d(512, 512, kernel_size=(3, 3), stride=(1, 1), padding=(1, 1), bias=False)\n",
      "      (bn1): BatchNorm2d(512, eps=1e-05, momentum=0.1, affine=True, track_running_stats=True)\n",
      "      (relu): ReLU(inplace=True)\n",
      "      (conv2): Conv2d(512, 512, kernel_size=(3, 3), stride=(1, 1), padding=(1, 1), bias=False)\n",
      "      (bn2): BatchNorm2d(512, eps=1e-05, momentum=0.1, affine=True, track_running_stats=True)\n",
      "    )\n",
      "  )\n",
      "  (avgpool): AdaptiveAvgPool2d(output_size=(1, 1))\n",
      "  (fc): Linear(in_features=512, out_features=1000, bias=True)\n",
      ")\n"
     ]
    }
   ],
   "source": [
    "resnet = models.resnet34(pretrained=True).to(device)\n",
    "print(resnet)"
   ]
  },
  {
   "cell_type": "code",
   "execution_count": 12,
   "id": "5c31eb30",
   "metadata": {},
   "outputs": [],
   "source": [
    "resnet.conv1 = torch.nn.Conv2d(1, 64, kernel_size = 7, stride = 2, padding = 3, bias = False)"
   ]
  },
  {
   "cell_type": "code",
   "execution_count": 13,
   "id": "04886c73",
   "metadata": {},
   "outputs": [],
   "source": [
    "for param in resnet.parameters():\n",
    "    param.requiresGrad = False\n",
    "resnet.conv1.requiresGrad = True"
   ]
  },
  {
   "cell_type": "code",
   "execution_count": 14,
   "id": "40817fbc",
   "metadata": {},
   "outputs": [
    {
     "name": "stdout",
     "output_type": "stream",
     "text": [
      "ResNet(\n",
      "  (conv1): Conv2d(1, 64, kernel_size=(7, 7), stride=(2, 2), padding=(3, 3), bias=False)\n",
      "  (bn1): BatchNorm2d(64, eps=1e-05, momentum=0.1, affine=True, track_running_stats=True)\n",
      "  (relu): ReLU(inplace=True)\n",
      "  (maxpool): MaxPool2d(kernel_size=3, stride=2, padding=1, dilation=1, ceil_mode=False)\n",
      "  (layer1): Sequential(\n",
      "    (0): BasicBlock(\n",
      "      (conv1): Conv2d(64, 64, kernel_size=(3, 3), stride=(1, 1), padding=(1, 1), bias=False)\n",
      "      (bn1): BatchNorm2d(64, eps=1e-05, momentum=0.1, affine=True, track_running_stats=True)\n",
      "      (relu): ReLU(inplace=True)\n",
      "      (conv2): Conv2d(64, 64, kernel_size=(3, 3), stride=(1, 1), padding=(1, 1), bias=False)\n",
      "      (bn2): BatchNorm2d(64, eps=1e-05, momentum=0.1, affine=True, track_running_stats=True)\n",
      "    )\n",
      "    (1): BasicBlock(\n",
      "      (conv1): Conv2d(64, 64, kernel_size=(3, 3), stride=(1, 1), padding=(1, 1), bias=False)\n",
      "      (bn1): BatchNorm2d(64, eps=1e-05, momentum=0.1, affine=True, track_running_stats=True)\n",
      "      (relu): ReLU(inplace=True)\n",
      "      (conv2): Conv2d(64, 64, kernel_size=(3, 3), stride=(1, 1), padding=(1, 1), bias=False)\n",
      "      (bn2): BatchNorm2d(64, eps=1e-05, momentum=0.1, affine=True, track_running_stats=True)\n",
      "    )\n",
      "    (2): BasicBlock(\n",
      "      (conv1): Conv2d(64, 64, kernel_size=(3, 3), stride=(1, 1), padding=(1, 1), bias=False)\n",
      "      (bn1): BatchNorm2d(64, eps=1e-05, momentum=0.1, affine=True, track_running_stats=True)\n",
      "      (relu): ReLU(inplace=True)\n",
      "      (conv2): Conv2d(64, 64, kernel_size=(3, 3), stride=(1, 1), padding=(1, 1), bias=False)\n",
      "      (bn2): BatchNorm2d(64, eps=1e-05, momentum=0.1, affine=True, track_running_stats=True)\n",
      "    )\n",
      "  )\n",
      "  (layer2): Sequential(\n",
      "    (0): BasicBlock(\n",
      "      (conv1): Conv2d(64, 128, kernel_size=(3, 3), stride=(2, 2), padding=(1, 1), bias=False)\n",
      "      (bn1): BatchNorm2d(128, eps=1e-05, momentum=0.1, affine=True, track_running_stats=True)\n",
      "      (relu): ReLU(inplace=True)\n",
      "      (conv2): Conv2d(128, 128, kernel_size=(3, 3), stride=(1, 1), padding=(1, 1), bias=False)\n",
      "      (bn2): BatchNorm2d(128, eps=1e-05, momentum=0.1, affine=True, track_running_stats=True)\n",
      "      (downsample): Sequential(\n",
      "        (0): Conv2d(64, 128, kernel_size=(1, 1), stride=(2, 2), bias=False)\n",
      "        (1): BatchNorm2d(128, eps=1e-05, momentum=0.1, affine=True, track_running_stats=True)\n",
      "      )\n",
      "    )\n",
      "    (1): BasicBlock(\n",
      "      (conv1): Conv2d(128, 128, kernel_size=(3, 3), stride=(1, 1), padding=(1, 1), bias=False)\n",
      "      (bn1): BatchNorm2d(128, eps=1e-05, momentum=0.1, affine=True, track_running_stats=True)\n",
      "      (relu): ReLU(inplace=True)\n",
      "      (conv2): Conv2d(128, 128, kernel_size=(3, 3), stride=(1, 1), padding=(1, 1), bias=False)\n",
      "      (bn2): BatchNorm2d(128, eps=1e-05, momentum=0.1, affine=True, track_running_stats=True)\n",
      "    )\n",
      "    (2): BasicBlock(\n",
      "      (conv1): Conv2d(128, 128, kernel_size=(3, 3), stride=(1, 1), padding=(1, 1), bias=False)\n",
      "      (bn1): BatchNorm2d(128, eps=1e-05, momentum=0.1, affine=True, track_running_stats=True)\n",
      "      (relu): ReLU(inplace=True)\n",
      "      (conv2): Conv2d(128, 128, kernel_size=(3, 3), stride=(1, 1), padding=(1, 1), bias=False)\n",
      "      (bn2): BatchNorm2d(128, eps=1e-05, momentum=0.1, affine=True, track_running_stats=True)\n",
      "    )\n",
      "    (3): BasicBlock(\n",
      "      (conv1): Conv2d(128, 128, kernel_size=(3, 3), stride=(1, 1), padding=(1, 1), bias=False)\n",
      "      (bn1): BatchNorm2d(128, eps=1e-05, momentum=0.1, affine=True, track_running_stats=True)\n",
      "      (relu): ReLU(inplace=True)\n",
      "      (conv2): Conv2d(128, 128, kernel_size=(3, 3), stride=(1, 1), padding=(1, 1), bias=False)\n",
      "      (bn2): BatchNorm2d(128, eps=1e-05, momentum=0.1, affine=True, track_running_stats=True)\n",
      "    )\n",
      "  )\n",
      "  (layer3): Sequential(\n",
      "    (0): BasicBlock(\n",
      "      (conv1): Conv2d(128, 256, kernel_size=(3, 3), stride=(2, 2), padding=(1, 1), bias=False)\n",
      "      (bn1): BatchNorm2d(256, eps=1e-05, momentum=0.1, affine=True, track_running_stats=True)\n",
      "      (relu): ReLU(inplace=True)\n",
      "      (conv2): Conv2d(256, 256, kernel_size=(3, 3), stride=(1, 1), padding=(1, 1), bias=False)\n",
      "      (bn2): BatchNorm2d(256, eps=1e-05, momentum=0.1, affine=True, track_running_stats=True)\n",
      "      (downsample): Sequential(\n",
      "        (0): Conv2d(128, 256, kernel_size=(1, 1), stride=(2, 2), bias=False)\n",
      "        (1): BatchNorm2d(256, eps=1e-05, momentum=0.1, affine=True, track_running_stats=True)\n",
      "      )\n",
      "    )\n",
      "    (1): BasicBlock(\n",
      "      (conv1): Conv2d(256, 256, kernel_size=(3, 3), stride=(1, 1), padding=(1, 1), bias=False)\n",
      "      (bn1): BatchNorm2d(256, eps=1e-05, momentum=0.1, affine=True, track_running_stats=True)\n",
      "      (relu): ReLU(inplace=True)\n",
      "      (conv2): Conv2d(256, 256, kernel_size=(3, 3), stride=(1, 1), padding=(1, 1), bias=False)\n",
      "      (bn2): BatchNorm2d(256, eps=1e-05, momentum=0.1, affine=True, track_running_stats=True)\n",
      "    )\n",
      "    (2): BasicBlock(\n",
      "      (conv1): Conv2d(256, 256, kernel_size=(3, 3), stride=(1, 1), padding=(1, 1), bias=False)\n",
      "      (bn1): BatchNorm2d(256, eps=1e-05, momentum=0.1, affine=True, track_running_stats=True)\n",
      "      (relu): ReLU(inplace=True)\n",
      "      (conv2): Conv2d(256, 256, kernel_size=(3, 3), stride=(1, 1), padding=(1, 1), bias=False)\n",
      "      (bn2): BatchNorm2d(256, eps=1e-05, momentum=0.1, affine=True, track_running_stats=True)\n",
      "    )\n",
      "    (3): BasicBlock(\n",
      "      (conv1): Conv2d(256, 256, kernel_size=(3, 3), stride=(1, 1), padding=(1, 1), bias=False)\n",
      "      (bn1): BatchNorm2d(256, eps=1e-05, momentum=0.1, affine=True, track_running_stats=True)\n",
      "      (relu): ReLU(inplace=True)\n",
      "      (conv2): Conv2d(256, 256, kernel_size=(3, 3), stride=(1, 1), padding=(1, 1), bias=False)\n",
      "      (bn2): BatchNorm2d(256, eps=1e-05, momentum=0.1, affine=True, track_running_stats=True)\n",
      "    )\n",
      "    (4): BasicBlock(\n",
      "      (conv1): Conv2d(256, 256, kernel_size=(3, 3), stride=(1, 1), padding=(1, 1), bias=False)\n",
      "      (bn1): BatchNorm2d(256, eps=1e-05, momentum=0.1, affine=True, track_running_stats=True)\n",
      "      (relu): ReLU(inplace=True)\n",
      "      (conv2): Conv2d(256, 256, kernel_size=(3, 3), stride=(1, 1), padding=(1, 1), bias=False)\n",
      "      (bn2): BatchNorm2d(256, eps=1e-05, momentum=0.1, affine=True, track_running_stats=True)\n",
      "    )\n",
      "    (5): BasicBlock(\n",
      "      (conv1): Conv2d(256, 256, kernel_size=(3, 3), stride=(1, 1), padding=(1, 1), bias=False)\n",
      "      (bn1): BatchNorm2d(256, eps=1e-05, momentum=0.1, affine=True, track_running_stats=True)\n",
      "      (relu): ReLU(inplace=True)\n",
      "      (conv2): Conv2d(256, 256, kernel_size=(3, 3), stride=(1, 1), padding=(1, 1), bias=False)\n",
      "      (bn2): BatchNorm2d(256, eps=1e-05, momentum=0.1, affine=True, track_running_stats=True)\n",
      "    )\n",
      "  )\n",
      "  (layer4): Sequential(\n",
      "    (0): BasicBlock(\n",
      "      (conv1): Conv2d(256, 512, kernel_size=(3, 3), stride=(2, 2), padding=(1, 1), bias=False)\n",
      "      (bn1): BatchNorm2d(512, eps=1e-05, momentum=0.1, affine=True, track_running_stats=True)\n",
      "      (relu): ReLU(inplace=True)\n",
      "      (conv2): Conv2d(512, 512, kernel_size=(3, 3), stride=(1, 1), padding=(1, 1), bias=False)\n",
      "      (bn2): BatchNorm2d(512, eps=1e-05, momentum=0.1, affine=True, track_running_stats=True)\n",
      "      (downsample): Sequential(\n",
      "        (0): Conv2d(256, 512, kernel_size=(1, 1), stride=(2, 2), bias=False)\n",
      "        (1): BatchNorm2d(512, eps=1e-05, momentum=0.1, affine=True, track_running_stats=True)\n",
      "      )\n",
      "    )\n",
      "    (1): BasicBlock(\n",
      "      (conv1): Conv2d(512, 512, kernel_size=(3, 3), stride=(1, 1), padding=(1, 1), bias=False)\n",
      "      (bn1): BatchNorm2d(512, eps=1e-05, momentum=0.1, affine=True, track_running_stats=True)\n",
      "      (relu): ReLU(inplace=True)\n",
      "      (conv2): Conv2d(512, 512, kernel_size=(3, 3), stride=(1, 1), padding=(1, 1), bias=False)\n",
      "      (bn2): BatchNorm2d(512, eps=1e-05, momentum=0.1, affine=True, track_running_stats=True)\n",
      "    )\n",
      "    (2): BasicBlock(\n",
      "      (conv1): Conv2d(512, 512, kernel_size=(3, 3), stride=(1, 1), padding=(1, 1), bias=False)\n",
      "      (bn1): BatchNorm2d(512, eps=1e-05, momentum=0.1, affine=True, track_running_stats=True)\n",
      "      (relu): ReLU(inplace=True)\n",
      "      (conv2): Conv2d(512, 512, kernel_size=(3, 3), stride=(1, 1), padding=(1, 1), bias=False)\n",
      "      (bn2): BatchNorm2d(512, eps=1e-05, momentum=0.1, affine=True, track_running_stats=True)\n",
      "    )\n",
      "  )\n",
      "  (avgpool): AdaptiveAvgPool2d(output_size=(1, 1))\n",
      "  (fc): Sequential(\n",
      "    (0): Linear(in_features=512, out_features=1000, bias=True)\n",
      "    (1): Linear(in_features=1000, out_features=2, bias=True)\n",
      "  )\n",
      ")\n"
     ]
    }
   ],
   "source": [
    "resnet.fc = torch.nn.Sequential(resnet.fc, torch.nn.Linear(1000, 2))\n",
    "print(resnet)"
   ]
  },
  {
   "cell_type": "code",
   "execution_count": 15,
   "id": "ac14caf3",
   "metadata": {},
   "outputs": [],
   "source": [
    "def create_adam_optimizer(model, lr = 0.1, betas=(0.9, 0.999), amsgrad=False,weight_decay=1e-5):\n",
    "    return optim.Adam(model.parameters(), lr = lr, amsgrad=amsgrad, betas=betas)"
   ]
  },
  {
   "cell_type": "code",
   "execution_count": 21,
   "id": "1bf27173",
   "metadata": {
    "scrolled": true
   },
   "outputs": [
    {
     "name": "stdout",
     "output_type": "stream",
     "text": [
      "Epoch 1/20, Batch number: 0, Cumulated accuracy: 0.53125\n",
      "Epoch 1/20, Batch number: 5, Cumulated accuracy: 0.6927083333333334\n",
      "Epoch 1/20, Batch number: 10, Cumulated accuracy: 0.7727272727272727\n",
      "Epoch 1/20, Batch number: 15, Cumulated accuracy: 0.8154296875\n",
      "Epoch 1/20, Batch number: 20, Cumulated accuracy: 0.8418898809523809\n",
      "Epoch 1/20, Batch number: 25, Cumulated accuracy: 0.8596754807692307\n",
      "Epoch 1/20, Batch number: 30, Cumulated accuracy: 0.8722278225806451\n",
      "Epoch 1/20, Batch number: 35, Cumulated accuracy: 0.8836805555555556\n",
      "Epoch 1/20, Batch number: 40, Cumulated accuracy: 0.8902439024390244\n",
      "Epoch 1/20, Batch number: 45, Cumulated accuracy: 0.8974184782608695\n",
      "--- Epoch 1/20: Train loss: 0.3151, Train accuracy: 0.8977\n",
      "--- Epoch 1/20: Val loss: 0.3070, Val accuracy: 0.8718\n",
      "Epoch 2/20, Batch number: 0, Cumulated accuracy: 0.9375\n",
      "Epoch 2/20, Batch number: 5, Cumulated accuracy: 0.9440104166666666\n",
      "Epoch 2/20, Batch number: 10, Cumulated accuracy: 0.9446022727272727\n",
      "Epoch 2/20, Batch number: 15, Cumulated accuracy: 0.94677734375\n",
      "Epoch 2/20, Batch number: 20, Cumulated accuracy: 0.9520089285714286\n",
      "Epoch 2/20, Batch number: 25, Cumulated accuracy: 0.9525240384615384\n",
      "Epoch 2/20, Batch number: 30, Cumulated accuracy: 0.9536290322580645\n",
      "Epoch 2/20, Batch number: 35, Cumulated accuracy: 0.9546440972222222\n",
      "Epoch 2/20, Batch number: 40, Cumulated accuracy: 0.9525533536585366\n",
      "Epoch 2/20, Batch number: 45, Cumulated accuracy: 0.9524456521739131\n",
      "--- Epoch 2/20: Train loss: 0.1275, Train accuracy: 0.9525\n",
      "--- Epoch 2/20: Val loss: 0.2814, Val accuracy: 0.8821\n",
      "Epoch 3/20, Batch number: 0, Cumulated accuracy: 0.9609375\n",
      "Epoch 3/20, Batch number: 5, Cumulated accuracy: 0.94921875\n",
      "Epoch 3/20, Batch number: 10, Cumulated accuracy: 0.9573863636363636\n",
      "Epoch 3/20, Batch number: 15, Cumulated accuracy: 0.9580078125\n",
      "Epoch 3/20, Batch number: 20, Cumulated accuracy: 0.9590773809523809\n",
      "Epoch 3/20, Batch number: 25, Cumulated accuracy: 0.9597355769230769\n",
      "Epoch 3/20, Batch number: 30, Cumulated accuracy: 0.9561491935483871\n",
      "Epoch 3/20, Batch number: 35, Cumulated accuracy: 0.9537760416666666\n",
      "Epoch 3/20, Batch number: 40, Cumulated accuracy: 0.9536966463414634\n",
      "Epoch 3/20, Batch number: 45, Cumulated accuracy: 0.9539741847826086\n",
      "--- Epoch 3/20: Train loss: 0.1147, Train accuracy: 0.9535\n",
      "--- Epoch 3/20: Val loss: 0.6036, Val accuracy: 0.7897\n",
      "Epoch 4/20, Batch number: 0, Cumulated accuracy: 0.96875\n",
      "Epoch 4/20, Batch number: 5, Cumulated accuracy: 0.9609375\n",
      "Epoch 4/20, Batch number: 10, Cumulated accuracy: 0.9659090909090909\n",
      "Epoch 4/20, Batch number: 15, Cumulated accuracy: 0.96826171875\n",
      "Epoch 4/20, Batch number: 20, Cumulated accuracy: 0.9676339285714286\n",
      "Epoch 4/20, Batch number: 25, Cumulated accuracy: 0.9699519230769231\n",
      "Epoch 4/20, Batch number: 30, Cumulated accuracy: 0.9695060483870968\n",
      "Epoch 4/20, Batch number: 35, Cumulated accuracy: 0.9696180555555556\n",
      "Epoch 4/20, Batch number: 40, Cumulated accuracy: 0.9685594512195121\n",
      "Epoch 4/20, Batch number: 45, Cumulated accuracy: 0.9680706521739131\n",
      "--- Epoch 4/20: Train loss: 0.0825, Train accuracy: 0.9676\n",
      "--- Epoch 4/20: Val loss: 0.5581, Val accuracy: 0.8496\n",
      "Epoch 5/20, Batch number: 0, Cumulated accuracy: 0.9921875\n",
      "Epoch 5/20, Batch number: 5, Cumulated accuracy: 0.9778645833333334\n",
      "Epoch 5/20, Batch number: 10, Cumulated accuracy: 0.9708806818181818\n",
      "Epoch 5/20, Batch number: 15, Cumulated accuracy: 0.9716796875\n",
      "Epoch 5/20, Batch number: 20, Cumulated accuracy: 0.9732142857142857\n",
      "Epoch 5/20, Batch number: 25, Cumulated accuracy: 0.9747596153846154\n",
      "Epoch 5/20, Batch number: 30, Cumulated accuracy: 0.9740423387096774\n",
      "Epoch 5/20, Batch number: 35, Cumulated accuracy: 0.9722222222222222\n",
      "Epoch 5/20, Batch number: 40, Cumulated accuracy: 0.9729420731707317\n",
      "Epoch 5/20, Batch number: 45, Cumulated accuracy: 0.97265625\n",
      "--- Epoch 5/20: Train loss: 0.0738, Train accuracy: 0.9728\n",
      "--- Epoch 5/20: Val loss: 0.2468, Val accuracy: 0.9094\n",
      "Epoch 6/20, Batch number: 0, Cumulated accuracy: 0.9453125\n",
      "Epoch 6/20, Batch number: 5, Cumulated accuracy: 0.9713541666666666\n",
      "Epoch 6/20, Batch number: 10, Cumulated accuracy: 0.9730113636363636\n",
      "Epoch 6/20, Batch number: 15, Cumulated accuracy: 0.9755859375\n",
      "Epoch 6/20, Batch number: 20, Cumulated accuracy: 0.9717261904761905\n",
      "Epoch 6/20, Batch number: 25, Cumulated accuracy: 0.9717548076923077\n",
      "Epoch 6/20, Batch number: 30, Cumulated accuracy: 0.9725302419354839\n",
      "Epoch 6/20, Batch number: 35, Cumulated accuracy: 0.9722222222222222\n",
      "Epoch 6/20, Batch number: 40, Cumulated accuracy: 0.973704268292683\n",
      "Epoch 6/20, Batch number: 45, Cumulated accuracy: 0.9748641304347826\n",
      "--- Epoch 6/20: Train loss: 0.0694, Train accuracy: 0.9751\n",
      "--- Epoch 6/20: Val loss: 0.2728, Val accuracy: 0.9197\n",
      "Epoch 7/20, Batch number: 0, Cumulated accuracy: 0.96875\n",
      "Epoch 7/20, Batch number: 5, Cumulated accuracy: 0.9856770833333334\n",
      "Epoch 7/20, Batch number: 10, Cumulated accuracy: 0.9829545454545454\n",
      "Epoch 7/20, Batch number: 15, Cumulated accuracy: 0.98291015625\n",
      "Epoch 7/20, Batch number: 20, Cumulated accuracy: 0.9813988095238095\n",
      "Epoch 7/20, Batch number: 25, Cumulated accuracy: 0.9807692307692307\n",
      "Epoch 7/20, Batch number: 30, Cumulated accuracy: 0.9808467741935484\n",
      "Epoch 7/20, Batch number: 35, Cumulated accuracy: 0.9811197916666666\n",
      "Epoch 7/20, Batch number: 40, Cumulated accuracy: 0.9801829268292683\n",
      "Epoch 7/20, Batch number: 45, Cumulated accuracy: 0.9809782608695652\n",
      "--- Epoch 7/20: Train loss: 0.0513, Train accuracy: 0.9810\n",
      "--- Epoch 7/20: Val loss: 0.3269, Val accuracy: 0.9162\n",
      "Epoch 8/20, Batch number: 0, Cumulated accuracy: 0.9921875\n",
      "Epoch 8/20, Batch number: 5, Cumulated accuracy: 0.9908854166666666\n",
      "Epoch 8/20, Batch number: 10, Cumulated accuracy: 0.9893465909090909\n",
      "Epoch 8/20, Batch number: 15, Cumulated accuracy: 0.98876953125\n",
      "Epoch 8/20, Batch number: 20, Cumulated accuracy: 0.9884672619047619\n",
      "Epoch 8/20, Batch number: 25, Cumulated accuracy: 0.9867788461538461\n",
      "Epoch 8/20, Batch number: 30, Cumulated accuracy: 0.983366935483871\n",
      "Epoch 8/20, Batch number: 35, Cumulated accuracy: 0.9822048611111112\n",
      "Epoch 8/20, Batch number: 40, Cumulated accuracy: 0.9809451219512195\n",
      "Epoch 8/20, Batch number: 45, Cumulated accuracy: 0.979110054347826\n",
      "--- Epoch 8/20: Train loss: 0.0601, Train accuracy: 0.9790\n",
      "--- Epoch 8/20: Val loss: 0.4421, Val accuracy: 0.8718\n",
      "Stopped early due to increasing validation loss.\n"
     ]
    }
   ],
   "source": [
    "train_losses = []\n",
    "train_accuracies = []\n",
    "val_losses = []\n",
    "val_accuracies = []\n",
    "optimizer = create_adam_optimizer(resnet, lr = 0.001)\n",
    "epochs=20\n",
    "\n",
    "tl, ta, vl, va = train(device, resnet.to(device),\n",
    "                       train_loader, val_loader, \n",
    "                       optimizer, epochs = 20)\n",
    "train_losses+=tl\n",
    "train_accuracies+=ta\n",
    "val_losses+=vl\n",
    "val_accuracies+=va"
   ]
  },
  {
   "cell_type": "code",
   "execution_count": null,
   "id": "b885bb8c",
   "metadata": {},
   "outputs": [],
   "source": [
    "torch.save({'model_state_dict': resnetl.state_dict(), \n",
    "            'optimizer_state_dict': optimizer.state_dict()}, \n",
    "           './resnet')\n",
    "\n"
   ]
  },
  {
   "cell_type": "code",
   "execution_count": 73,
   "id": "148c569c",
   "metadata": {},
   "outputs": [
    {
     "data": {
      "text/plain": [
       "<All keys matched successfully>"
      ]
     },
     "execution_count": 73,
     "metadata": {},
     "output_type": "execute_result"
    }
   ],
   "source": [
    "resnet.load_state_dict(torch.load(\"./resnet\")[\"model_state_dict\"])"
   ]
  },
  {
   "cell_type": "code",
   "execution_count": 75,
   "id": "536c42c0",
   "metadata": {},
   "outputs": [
    {
     "name": "stdout",
     "output_type": "stream",
     "text": [
      "Test loss: 0.2711, Test accuracy: 0.9214\n",
      "Precision: 0.9223946784922394\n",
      "Recall: 0.9742388758782201\n",
      "F1 score: 0.9476082004555809\n"
     ]
    },
    {
     "data": {
      "image/png": "[encoded data removed]",
      "text/plain": [
       "<Figure size 432x288 with 2 Axes>"
      ]
     },
     "metadata": {
      "needs_background": "light"
     },
     "output_type": "display_data"
    }
   ],
   "source": [
    "true_labels, model_preds, test_loss, test_accuracy = test(device, resnet.to(device), test_loader, get_predictions=True)\n",
    "show_metrics(true_labels, model_preds)"
   ]
  },
  {
   "cell_type": "code",
   "execution_count": null,
   "id": "4d075698",
   "metadata": {},
   "outputs": [],
   "source": []
  }
 ],
 "metadata": {
  "kernelspec": {
   "display_name": "Python 3 (ipykernel)",
   "language": "python",
   "name": "python3"
  },
  "language_info": {
   "codemirror_mode": {
    "name": "ipython",
    "version": 3
   },
   "file_extension": ".py",
   "mimetype": "text/x-python",
   "name": "python",
   "nbconvert_exporter": "python",
   "pygments_lexer": "ipython3",
   "version": "3.8.12"
  }
 },
 "nbformat": 4,
 "nbformat_minor": 5
}
