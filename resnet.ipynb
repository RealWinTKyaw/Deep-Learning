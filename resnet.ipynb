{
 "cells": [
  {
   "cell_type": "code",
   "execution_count": 1,
   "id": "89eaf909",
   "metadata": {},
   "outputs": [
    {
     "name": "stdout",
     "output_type": "stream",
     "text": [
      "Requirement already satisfied: pytorch-model-summary in c:\\users\\varsh\\anaconda3\\lib\\site-packages (0.1.2)\n",
      "Requirement already satisfied: torch in c:\\users\\varsh\\anaconda3\\lib\\site-packages (from pytorch-model-summary) (1.13.1)\n",
      "Requirement already satisfied: tqdm in c:\\users\\varsh\\anaconda3\\lib\\site-packages (from pytorch-model-summary) (4.62.3)\n",
      "Requirement already satisfied: numpy in c:\\users\\varsh\\anaconda3\\lib\\site-packages (from pytorch-model-summary) (1.20.3)\n",
      "Requirement already satisfied: typing_extensions in c:\\users\\varsh\\anaconda3\\lib\\site-packages (from torch->pytorch-model-summary) (3.10.0.2)\n",
      "Requirement already satisfied: colorama in c:\\users\\varsh\\anaconda3\\lib\\site-packages (from tqdm->pytorch-model-summary) (0.4.4)\n",
      "Note: you may need to restart the kernel to use updated packages.\n"
     ]
    }
   ],
   "source": [
    "pip install pytorch-model-summary"
   ]
  },
  {
   "cell_type": "code",
   "execution_count": 2,
   "id": "19fe2912",
   "metadata": {},
   "outputs": [
    {
     "name": "stdout",
     "output_type": "stream",
     "text": [
      "Requirement already satisfied: torchsampler in c:\\users\\varsh\\anaconda3\\lib\\site-packages (0.1.2)\n",
      "Requirement already satisfied: pandas in c:\\users\\varsh\\anaconda3\\lib\\site-packages (from torchsampler) (1.3.4)\n",
      "Requirement already satisfied: torch>=1.3 in c:\\users\\varsh\\anaconda3\\lib\\site-packages (from torchsampler) (1.13.1)\n",
      "Requirement already satisfied: torchvision>=0.5 in c:\\users\\varsh\\anaconda3\\lib\\site-packages (from torchsampler) (0.14.1)\n",
      "Requirement already satisfied: typing_extensions in c:\\users\\varsh\\anaconda3\\lib\\site-packages (from torch>=1.3->torchsampler) (3.10.0.2)\n",
      "Requirement already satisfied: numpy in c:\\users\\varsh\\anaconda3\\lib\\site-packages (from torchvision>=0.5->torchsampler) (1.20.3)\n",
      "Requirement already satisfied: requests in c:\\users\\varsh\\anaconda3\\lib\\site-packages (from torchvision>=0.5->torchsampler) (2.26.0)\n",
      "Requirement already satisfied: pillow!=8.3.*,>=5.3.0 in c:\\users\\varsh\\anaconda3\\lib\\site-packages (from torchvision>=0.5->torchsampler) (8.4.0)\n",
      "Requirement already satisfied: python-dateutil>=2.7.3 in c:\\users\\varsh\\anaconda3\\lib\\site-packages (from pandas->torchsampler) (2.8.2)\n",
      "Requirement already satisfied: pytz>=2017.3 in c:\\users\\varsh\\anaconda3\\lib\\site-packages (from pandas->torchsampler) (2021.3)\n",
      "Requirement already satisfied: six>=1.5 in c:\\users\\varsh\\anaconda3\\lib\\site-packages (from python-dateutil>=2.7.3->pandas->torchsampler) (1.16.0)\n",
      "Requirement already satisfied: charset-normalizer~=2.0.0 in c:\\users\\varsh\\anaconda3\\lib\\site-packages (from requests->torchvision>=0.5->torchsampler) (2.0.4)\n",
      "Requirement already satisfied: urllib3<1.27,>=1.21.1 in c:\\users\\varsh\\anaconda3\\lib\\site-packages (from requests->torchvision>=0.5->torchsampler) (1.26.7)\n",
      "Requirement already satisfied: idna<4,>=2.5 in c:\\users\\varsh\\anaconda3\\lib\\site-packages (from requests->torchvision>=0.5->torchsampler) (3.2)\n",
      "Requirement already satisfied: certifi>=2017.4.17 in c:\\users\\varsh\\anaconda3\\lib\\site-packages (from requests->torchvision>=0.5->torchsampler) (2022.12.7)\n",
      "Note: you may need to restart the kernel to use updated packages.\n"
     ]
    }
   ],
   "source": [
    "pip install torchsampler"
   ]
  },
  {
   "cell_type": "code",
   "execution_count": 50,
   "id": "fc2ada88",
   "metadata": {},
   "outputs": [],
   "source": [
    "import matplotlib.pyplot as plt\n",
    "import torch\n",
    "import torchvision\n",
    "from torchvision import models\n",
    "from torchvision.datasets import ImageFolder\n",
    "from torchvision.transforms import ToTensor, Compose, Resize, RandomHorizontalFlip, Grayscale\n",
    "import torch.optim as optim\n",
    "import torch.nn.functional as F\n",
    "import torch.nn as nn\n",
    "from pytorch_model_summary import summary\n",
    "from helpers import *"
   ]
  },
  {
   "cell_type": "code",
   "execution_count": 51,
   "id": "1f653c79",
   "metadata": {},
   "outputs": [],
   "source": [
    "# pip install torchsampler\n",
    "from torchsampler import ImbalancedDatasetSampler"
   ]
  },
  {
   "cell_type": "code",
   "execution_count": 52,
   "id": "488a00e6",
   "metadata": {},
   "outputs": [
    {
     "data": {
      "text/plain": [
       "<torch._C.Generator at 0x19fbbff51f0>"
      ]
     },
     "execution_count": 52,
     "metadata": {},
     "output_type": "execute_result"
    }
   ],
   "source": [
    "torch.manual_seed(42)"
   ]
  },
  {
   "cell_type": "code",
   "execution_count": 53,
   "id": "22723c10",
   "metadata": {},
   "outputs": [
    {
     "name": "stdout",
     "output_type": "stream",
     "text": [
      "cuda\n"
     ]
    }
   ],
   "source": [
    "device = torch.device(\"cuda\" if torch.cuda.is_available() else \"cpu\")\n",
    "print(device)"
   ]
  },
  {
   "cell_type": "code",
   "execution_count": 54,
   "id": "bfd47b62",
   "metadata": {},
   "outputs": [],
   "source": [
    "size = 32\n",
    "batch_size = 64\n",
    "transformation = Compose([RandomHorizontalFlip(), Grayscale(), Resize((size, size)), ToTensor()])"
   ]
  },
  {
   "cell_type": "code",
   "execution_count": 55,
   "id": "95cc8180",
   "metadata": {},
   "outputs": [],
   "source": [
    "def create_dataset(root, transformation):\n",
    "    dataset = ImageFolder(root, transformation)\n",
    "    return dataset"
   ]
  },
  {
   "cell_type": "code",
   "execution_count": 56,
   "id": "0b9a4fdd",
   "metadata": {},
   "outputs": [],
   "source": [
    "def produce_loader(data, sampler=None):\n",
    "    loader = torch.utils.data.DataLoader(data, batch_size = batch_size, sampler=sampler, shuffle = False)\n",
    "    return loader"
   ]
  },
  {
   "cell_type": "code",
   "execution_count": 57,
   "id": "36d25dc0",
   "metadata": {},
   "outputs": [],
   "source": [
    "root = 'chest_xray/train'\n",
    "train_data = create_dataset(root, transformation)\n",
    "sampler_train = ImbalancedDatasetSampler(train_data)\n",
    "train_loader = produce_loader(train_data, sampler_train)\n",
    " "
   ]
  },
  {
   "cell_type": "code",
   "execution_count": 58,
   "id": "57e1ae0b",
   "metadata": {},
   "outputs": [
    {
     "data": {
      "text/plain": [
       "585"
      ]
     },
     "execution_count": 58,
     "metadata": {},
     "output_type": "execute_result"
    }
   ],
   "source": [
    "root = 'chest_xray/test'\n",
    "test_data = create_dataset(root, transformation)\n",
    "test_loader = produce_loader(test_data)\n",
    "len(test_loader.dataset)"
   ]
  },
  {
   "cell_type": "code",
   "execution_count": 59,
   "id": "9b2a5ad9",
   "metadata": {},
   "outputs": [
    {
     "data": {
      "text/plain": [
       "585"
      ]
     },
     "execution_count": 59,
     "metadata": {},
     "output_type": "execute_result"
    }
   ],
   "source": [
    "root = 'chest_xray/val'\n",
    "val_data = create_dataset(root, transformation)\n",
    "val_loader = produce_loader(val_data)\n",
    "len(val_loader.dataset)"
   ]
  },
  {
   "cell_type": "code",
   "execution_count": 60,
   "id": "97aa4650",
   "metadata": {},
   "outputs": [],
   "source": [
    "def visualize_data(dataset):\n",
    "    indices = []\n",
    "    labels_map = {\n",
    "        0: \"Normal\",\n",
    "        1: \"Pneumonia\",\n",
    "    }\n",
    "    cols, rows = 3, 3\n",
    "    figure = plt.figure(figsize=(8, 8))\n",
    "    for i in range(1, cols * rows + 1):\n",
    "        sample_idx = torch.randint(len(dataset), size=(1,)).item()\n",
    "        indices.append(sample_idx)\n",
    "        img, label = dataset[sample_idx]\n",
    "        img = img.swapaxes(0,1)\n",
    "        img = img.swapaxes(1,2)\n",
    "        figure.add_subplot(rows, cols, i)\n",
    "        plt.title(labels_map[label])\n",
    "        plt.axis(\"off\")\n",
    "        plt.imshow(img)\n",
    "    print(indices)\n",
    "    indices = []\n",
    "    plt.show()"
   ]
  },
  {
   "cell_type": "code",
   "execution_count": 61,
   "id": "7b907f7a",
   "metadata": {},
   "outputs": [
    {
     "name": "stdout",
     "output_type": "stream",
     "text": [
      "[4032, 196, 1080, 1048, 1636, 1156, 3314, 1575, 3557]\n"
     ]
    },
    {
     "data": {
      "image/png": "[encoded data removed]",
      "text/plain": [
       "<Figure size 576x576 with 9 Axes>"
      ]
     },
     "metadata": {
      "needs_background": "light"
     },
     "output_type": "display_data"
    }
   ],
   "source": [
    "visualize_data(train_data)"
   ]
  },
  {
   "cell_type": "code",
   "execution_count": 62,
   "id": "879c567c",
   "metadata": {},
   "outputs": [
    {
     "name": "stdout",
     "output_type": "stream",
     "text": [
      "[327, 454, 478, 404, 281, 577, 417, 70, 368]\n"
     ]
    },
    {
     "data": {
      "image/png": "[encoded data removed]",
      "text/plain": [
       "<Figure size 576x576 with 9 Axes>"
      ]
     },
     "metadata": {
      "needs_background": "light"
     },
     "output_type": "display_data"
    }
   ],
   "source": [
    "visualize_data(test_data)"
   ]
  },
  {
   "cell_type": "code",
   "execution_count": 69,
   "id": "e9072b48",
   "metadata": {},
   "outputs": [
    {
     "name": "stdout",
     "output_type": "stream",
     "text": [
      "ResNet(\n",
      "  (conv1): Conv2d(3, 64, kernel_size=(7, 7), stride=(2, 2), padding=(3, 3), bias=False)\n",
      "  (bn1): BatchNorm2d(64, eps=1e-05, momentum=0.1, affine=True, track_running_stats=True)\n",
      "  (relu): ReLU(inplace=True)\n",
      "  (maxpool): MaxPool2d(kernel_size=3, stride=2, padding=1, dilation=1, ceil_mode=False)\n",
      "  (layer1): Sequential(\n",
      "    (0): BasicBlock(\n",
      "      (conv1): Conv2d(64, 64, kernel_size=(3, 3), stride=(1, 1), padding=(1, 1), bias=False)\n",
      "      (bn1): BatchNorm2d(64, eps=1e-05, momentum=0.1, affine=True, track_running_stats=True)\n",
      "      (relu): ReLU(inplace=True)\n",
      "      (conv2): Conv2d(64, 64, kernel_size=(3, 3), stride=(1, 1), padding=(1, 1), bias=False)\n",
      "      (bn2): BatchNorm2d(64, eps=1e-05, momentum=0.1, affine=True, track_running_stats=True)\n",
      "    )\n",
      "    (1): BasicBlock(\n",
      "      (conv1): Conv2d(64, 64, kernel_size=(3, 3), stride=(1, 1), padding=(1, 1), bias=False)\n",
      "      (bn1): BatchNorm2d(64, eps=1e-05, momentum=0.1, affine=True, track_running_stats=True)\n",
      "      (relu): ReLU(inplace=True)\n",
      "      (conv2): Conv2d(64, 64, kernel_size=(3, 3), stride=(1, 1), padding=(1, 1), bias=False)\n",
      "      (bn2): BatchNorm2d(64, eps=1e-05, momentum=0.1, affine=True, track_running_stats=True)\n",
      "    )\n",
      "    (2): BasicBlock(\n",
      "      (conv1): Conv2d(64, 64, kernel_size=(3, 3), stride=(1, 1), padding=(1, 1), bias=False)\n",
      "      (bn1): BatchNorm2d(64, eps=1e-05, momentum=0.1, affine=True, track_running_stats=True)\n",
      "      (relu): ReLU(inplace=True)\n",
      "      (conv2): Conv2d(64, 64, kernel_size=(3, 3), stride=(1, 1), padding=(1, 1), bias=False)\n",
      "      (bn2): BatchNorm2d(64, eps=1e-05, momentum=0.1, affine=True, track_running_stats=True)\n",
      "    )\n",
      "  )\n",
      "  (layer2): Sequential(\n",
      "    (0): BasicBlock(\n",
      "      (conv1): Conv2d(64, 128, kernel_size=(3, 3), stride=(2, 2), padding=(1, 1), bias=False)\n",
      "      (bn1): BatchNorm2d(128, eps=1e-05, momentum=0.1, affine=True, track_running_stats=True)\n",
      "      (relu): ReLU(inplace=True)\n",
      "      (conv2): Conv2d(128, 128, kernel_size=(3, 3), stride=(1, 1), padding=(1, 1), bias=False)\n",
      "      (bn2): BatchNorm2d(128, eps=1e-05, momentum=0.1, affine=True, track_running_stats=True)\n",
      "      (downsample): Sequential(\n",
      "        (0): Conv2d(64, 128, kernel_size=(1, 1), stride=(2, 2), bias=False)\n",
      "        (1): BatchNorm2d(128, eps=1e-05, momentum=0.1, affine=True, track_running_stats=True)\n",
      "      )\n",
      "    )\n",
      "    (1): BasicBlock(\n",
      "      (conv1): Conv2d(128, 128, kernel_size=(3, 3), stride=(1, 1), padding=(1, 1), bias=False)\n",
      "      (bn1): BatchNorm2d(128, eps=1e-05, momentum=0.1, affine=True, track_running_stats=True)\n",
      "      (relu): ReLU(inplace=True)\n",
      "      (conv2): Conv2d(128, 128, kernel_size=(3, 3), stride=(1, 1), padding=(1, 1), bias=False)\n",
      "      (bn2): BatchNorm2d(128, eps=1e-05, momentum=0.1, affine=True, track_running_stats=True)\n",
      "    )\n",
      "    (2): BasicBlock(\n",
      "      (conv1): Conv2d(128, 128, kernel_size=(3, 3), stride=(1, 1), padding=(1, 1), bias=False)\n",
      "      (bn1): BatchNorm2d(128, eps=1e-05, momentum=0.1, affine=True, track_running_stats=True)\n",
      "      (relu): ReLU(inplace=True)\n",
      "      (conv2): Conv2d(128, 128, kernel_size=(3, 3), stride=(1, 1), padding=(1, 1), bias=False)\n",
      "      (bn2): BatchNorm2d(128, eps=1e-05, momentum=0.1, affine=True, track_running_stats=True)\n",
      "    )\n",
      "    (3): BasicBlock(\n",
      "      (conv1): Conv2d(128, 128, kernel_size=(3, 3), stride=(1, 1), padding=(1, 1), bias=False)\n",
      "      (bn1): BatchNorm2d(128, eps=1e-05, momentum=0.1, affine=True, track_running_stats=True)\n",
      "      (relu): ReLU(inplace=True)\n",
      "      (conv2): Conv2d(128, 128, kernel_size=(3, 3), stride=(1, 1), padding=(1, 1), bias=False)\n",
      "      (bn2): BatchNorm2d(128, eps=1e-05, momentum=0.1, affine=True, track_running_stats=True)\n",
      "    )\n",
      "  )\n",
      "  (layer3): Sequential(\n",
      "    (0): BasicBlock(\n",
      "      (conv1): Conv2d(128, 256, kernel_size=(3, 3), stride=(2, 2), padding=(1, 1), bias=False)\n",
      "      (bn1): BatchNorm2d(256, eps=1e-05, momentum=0.1, affine=True, track_running_stats=True)\n",
      "      (relu): ReLU(inplace=True)\n",
      "      (conv2): Conv2d(256, 256, kernel_size=(3, 3), stride=(1, 1), padding=(1, 1), bias=False)\n",
      "      (bn2): BatchNorm2d(256, eps=1e-05, momentum=0.1, affine=True, track_running_stats=True)\n",
      "      (downsample): Sequential(\n",
      "        (0): Conv2d(128, 256, kernel_size=(1, 1), stride=(2, 2), bias=False)\n",
      "        (1): BatchNorm2d(256, eps=1e-05, momentum=0.1, affine=True, track_running_stats=True)\n",
      "      )\n",
      "    )\n",
      "    (1): BasicBlock(\n",
      "      (conv1): Conv2d(256, 256, kernel_size=(3, 3), stride=(1, 1), padding=(1, 1), bias=False)\n",
      "      (bn1): BatchNorm2d(256, eps=1e-05, momentum=0.1, affine=True, track_running_stats=True)\n",
      "      (relu): ReLU(inplace=True)\n",
      "      (conv2): Conv2d(256, 256, kernel_size=(3, 3), stride=(1, 1), padding=(1, 1), bias=False)\n",
      "      (bn2): BatchNorm2d(256, eps=1e-05, momentum=0.1, affine=True, track_running_stats=True)\n",
      "    )\n",
      "    (2): BasicBlock(\n",
      "      (conv1): Conv2d(256, 256, kernel_size=(3, 3), stride=(1, 1), padding=(1, 1), bias=False)\n",
      "      (bn1): BatchNorm2d(256, eps=1e-05, momentum=0.1, affine=True, track_running_stats=True)\n",
      "      (relu): ReLU(inplace=True)\n",
      "      (conv2): Conv2d(256, 256, kernel_size=(3, 3), stride=(1, 1), padding=(1, 1), bias=False)\n",
      "      (bn2): BatchNorm2d(256, eps=1e-05, momentum=0.1, affine=True, track_running_stats=True)\n",
      "    )\n",
      "    (3): BasicBlock(\n",
      "      (conv1): Conv2d(256, 256, kernel_size=(3, 3), stride=(1, 1), padding=(1, 1), bias=False)\n",
      "      (bn1): BatchNorm2d(256, eps=1e-05, momentum=0.1, affine=True, track_running_stats=True)\n",
      "      (relu): ReLU(inplace=True)\n",
      "      (conv2): Conv2d(256, 256, kernel_size=(3, 3), stride=(1, 1), padding=(1, 1), bias=False)\n",
      "      (bn2): BatchNorm2d(256, eps=1e-05, momentum=0.1, affine=True, track_running_stats=True)\n",
      "    )\n",
      "    (4): BasicBlock(\n",
      "      (conv1): Conv2d(256, 256, kernel_size=(3, 3), stride=(1, 1), padding=(1, 1), bias=False)\n",
      "      (bn1): BatchNorm2d(256, eps=1e-05, momentum=0.1, affine=True, track_running_stats=True)\n",
      "      (relu): ReLU(inplace=True)\n",
      "      (conv2): Conv2d(256, 256, kernel_size=(3, 3), stride=(1, 1), padding=(1, 1), bias=False)\n",
      "      (bn2): BatchNorm2d(256, eps=1e-05, momentum=0.1, affine=True, track_running_stats=True)\n",
      "    )\n",
      "    (5): BasicBlock(\n",
      "      (conv1): Conv2d(256, 256, kernel_size=(3, 3), stride=(1, 1), padding=(1, 1), bias=False)\n",
      "      (bn1): BatchNorm2d(256, eps=1e-05, momentum=0.1, affine=True, track_running_stats=True)\n",
      "      (relu): ReLU(inplace=True)\n",
      "      (conv2): Conv2d(256, 256, kernel_size=(3, 3), stride=(1, 1), padding=(1, 1), bias=False)\n",
      "      (bn2): BatchNorm2d(256, eps=1e-05, momentum=0.1, affine=True, track_running_stats=True)\n",
      "    )\n",
      "  )\n",
      "  (layer4): Sequential(\n",
      "    (0): BasicBlock(\n",
      "      (conv1): Conv2d(256, 512, kernel_size=(3, 3), stride=(2, 2), padding=(1, 1), bias=False)\n",
      "      (bn1): BatchNorm2d(512, eps=1e-05, momentum=0.1, affine=True, track_running_stats=True)\n",
      "      (relu): ReLU(inplace=True)\n",
      "      (conv2): Conv2d(512, 512, kernel_size=(3, 3), stride=(1, 1), padding=(1, 1), bias=False)\n",
      "      (bn2): BatchNorm2d(512, eps=1e-05, momentum=0.1, affine=True, track_running_stats=True)\n",
      "      (downsample): Sequential(\n",
      "        (0): Conv2d(256, 512, kernel_size=(1, 1), stride=(2, 2), bias=False)\n",
      "        (1): BatchNorm2d(512, eps=1e-05, momentum=0.1, affine=True, track_running_stats=True)\n",
      "      )\n",
      "    )\n",
      "    (1): BasicBlock(\n",
      "      (conv1): Conv2d(512, 512, kernel_size=(3, 3), stride=(1, 1), padding=(1, 1), bias=False)\n",
      "      (bn1): BatchNorm2d(512, eps=1e-05, momentum=0.1, affine=True, track_running_stats=True)\n",
      "      (relu): ReLU(inplace=True)\n",
      "      (conv2): Conv2d(512, 512, kernel_size=(3, 3), stride=(1, 1), padding=(1, 1), bias=False)\n",
      "      (bn2): BatchNorm2d(512, eps=1e-05, momentum=0.1, affine=True, track_running_stats=True)\n",
      "    )\n",
      "    (2): BasicBlock(\n",
      "      (conv1): Conv2d(512, 512, kernel_size=(3, 3), stride=(1, 1), padding=(1, 1), bias=False)\n",
      "      (bn1): BatchNorm2d(512, eps=1e-05, momentum=0.1, affine=True, track_running_stats=True)\n",
      "      (relu): ReLU(inplace=True)\n",
      "      (conv2): Conv2d(512, 512, kernel_size=(3, 3), stride=(1, 1), padding=(1, 1), bias=False)\n",
      "      (bn2): BatchNorm2d(512, eps=1e-05, momentum=0.1, affine=True, track_running_stats=True)\n",
      "    )\n",
      "  )\n",
      "  (avgpool): AdaptiveAvgPool2d(output_size=(1, 1))\n",
      "  (fc): Linear(in_features=512, out_features=1000, bias=True)\n",
      ")\n"
     ]
    }
   ],
   "source": [
    "resnet = models.resnet34(pretrained=True).to(device)\n",
    "print(resnet)"
   ]
  },
  {
   "cell_type": "code",
   "execution_count": 70,
   "id": "5c31eb30",
   "metadata": {},
   "outputs": [],
   "source": [
    "resnet.conv1 = torch.nn.Conv2d(1, 64, kernel_size = 7, stride = 2, padding = 3, bias = False)"
   ]
  },
  {
   "cell_type": "code",
   "execution_count": 71,
   "id": "04886c73",
   "metadata": {},
   "outputs": [],
   "source": [
    "for param in resnet.parameters():\n",
    "    param.requiresGrad = False\n",
    "resnet.conv1.requiresGrad = True"
   ]
  },
  {
   "cell_type": "code",
   "execution_count": 72,
   "id": "40817fbc",
   "metadata": {},
   "outputs": [
    {
     "name": "stdout",
     "output_type": "stream",
     "text": [
      "ResNet(\n",
      "  (conv1): Conv2d(1, 64, kernel_size=(7, 7), stride=(2, 2), padding=(3, 3), bias=False)\n",
      "  (bn1): BatchNorm2d(64, eps=1e-05, momentum=0.1, affine=True, track_running_stats=True)\n",
      "  (relu): ReLU(inplace=True)\n",
      "  (maxpool): MaxPool2d(kernel_size=3, stride=2, padding=1, dilation=1, ceil_mode=False)\n",
      "  (layer1): Sequential(\n",
      "    (0): BasicBlock(\n",
      "      (conv1): Conv2d(64, 64, kernel_size=(3, 3), stride=(1, 1), padding=(1, 1), bias=False)\n",
      "      (bn1): BatchNorm2d(64, eps=1e-05, momentum=0.1, affine=True, track_running_stats=True)\n",
      "      (relu): ReLU(inplace=True)\n",
      "      (conv2): Conv2d(64, 64, kernel_size=(3, 3), stride=(1, 1), padding=(1, 1), bias=False)\n",
      "      (bn2): BatchNorm2d(64, eps=1e-05, momentum=0.1, affine=True, track_running_stats=True)\n",
      "    )\n",
      "    (1): BasicBlock(\n",
      "      (conv1): Conv2d(64, 64, kernel_size=(3, 3), stride=(1, 1), padding=(1, 1), bias=False)\n",
      "      (bn1): BatchNorm2d(64, eps=1e-05, momentum=0.1, affine=True, track_running_stats=True)\n",
      "      (relu): ReLU(inplace=True)\n",
      "      (conv2): Conv2d(64, 64, kernel_size=(3, 3), stride=(1, 1), padding=(1, 1), bias=False)\n",
      "      (bn2): BatchNorm2d(64, eps=1e-05, momentum=0.1, affine=True, track_running_stats=True)\n",
      "    )\n",
      "    (2): BasicBlock(\n",
      "      (conv1): Conv2d(64, 64, kernel_size=(3, 3), stride=(1, 1), padding=(1, 1), bias=False)\n",
      "      (bn1): BatchNorm2d(64, eps=1e-05, momentum=0.1, affine=True, track_running_stats=True)\n",
      "      (relu): ReLU(inplace=True)\n",
      "      (conv2): Conv2d(64, 64, kernel_size=(3, 3), stride=(1, 1), padding=(1, 1), bias=False)\n",
      "      (bn2): BatchNorm2d(64, eps=1e-05, momentum=0.1, affine=True, track_running_stats=True)\n",
      "    )\n",
      "  )\n",
      "  (layer2): Sequential(\n",
      "    (0): BasicBlock(\n",
      "      (conv1): Conv2d(64, 128, kernel_size=(3, 3), stride=(2, 2), padding=(1, 1), bias=False)\n",
      "      (bn1): BatchNorm2d(128, eps=1e-05, momentum=0.1, affine=True, track_running_stats=True)\n",
      "      (relu): ReLU(inplace=True)\n",
      "      (conv2): Conv2d(128, 128, kernel_size=(3, 3), stride=(1, 1), padding=(1, 1), bias=False)\n",
      "      (bn2): BatchNorm2d(128, eps=1e-05, momentum=0.1, affine=True, track_running_stats=True)\n",
      "      (downsample): Sequential(\n",
      "        (0): Conv2d(64, 128, kernel_size=(1, 1), stride=(2, 2), bias=False)\n",
      "        (1): BatchNorm2d(128, eps=1e-05, momentum=0.1, affine=True, track_running_stats=True)\n",
      "      )\n",
      "    )\n",
      "    (1): BasicBlock(\n",
      "      (conv1): Conv2d(128, 128, kernel_size=(3, 3), stride=(1, 1), padding=(1, 1), bias=False)\n",
      "      (bn1): BatchNorm2d(128, eps=1e-05, momentum=0.1, affine=True, track_running_stats=True)\n",
      "      (relu): ReLU(inplace=True)\n",
      "      (conv2): Conv2d(128, 128, kernel_size=(3, 3), stride=(1, 1), padding=(1, 1), bias=False)\n",
      "      (bn2): BatchNorm2d(128, eps=1e-05, momentum=0.1, affine=True, track_running_stats=True)\n",
      "    )\n",
      "    (2): BasicBlock(\n",
      "      (conv1): Conv2d(128, 128, kernel_size=(3, 3), stride=(1, 1), padding=(1, 1), bias=False)\n",
      "      (bn1): BatchNorm2d(128, eps=1e-05, momentum=0.1, affine=True, track_running_stats=True)\n",
      "      (relu): ReLU(inplace=True)\n",
      "      (conv2): Conv2d(128, 128, kernel_size=(3, 3), stride=(1, 1), padding=(1, 1), bias=False)\n",
      "      (bn2): BatchNorm2d(128, eps=1e-05, momentum=0.1, affine=True, track_running_stats=True)\n",
      "    )\n",
      "    (3): BasicBlock(\n",
      "      (conv1): Conv2d(128, 128, kernel_size=(3, 3), stride=(1, 1), padding=(1, 1), bias=False)\n",
      "      (bn1): BatchNorm2d(128, eps=1e-05, momentum=0.1, affine=True, track_running_stats=True)\n",
      "      (relu): ReLU(inplace=True)\n",
      "      (conv2): Conv2d(128, 128, kernel_size=(3, 3), stride=(1, 1), padding=(1, 1), bias=False)\n",
      "      (bn2): BatchNorm2d(128, eps=1e-05, momentum=0.1, affine=True, track_running_stats=True)\n",
      "    )\n",
      "  )\n",
      "  (layer3): Sequential(\n",
      "    (0): BasicBlock(\n",
      "      (conv1): Conv2d(128, 256, kernel_size=(3, 3), stride=(2, 2), padding=(1, 1), bias=False)\n",
      "      (bn1): BatchNorm2d(256, eps=1e-05, momentum=0.1, affine=True, track_running_stats=True)\n",
      "      (relu): ReLU(inplace=True)\n",
      "      (conv2): Conv2d(256, 256, kernel_size=(3, 3), stride=(1, 1), padding=(1, 1), bias=False)\n",
      "      (bn2): BatchNorm2d(256, eps=1e-05, momentum=0.1, affine=True, track_running_stats=True)\n",
      "      (downsample): Sequential(\n",
      "        (0): Conv2d(128, 256, kernel_size=(1, 1), stride=(2, 2), bias=False)\n",
      "        (1): BatchNorm2d(256, eps=1e-05, momentum=0.1, affine=True, track_running_stats=True)\n",
      "      )\n",
      "    )\n",
      "    (1): BasicBlock(\n",
      "      (conv1): Conv2d(256, 256, kernel_size=(3, 3), stride=(1, 1), padding=(1, 1), bias=False)\n",
      "      (bn1): BatchNorm2d(256, eps=1e-05, momentum=0.1, affine=True, track_running_stats=True)\n",
      "      (relu): ReLU(inplace=True)\n",
      "      (conv2): Conv2d(256, 256, kernel_size=(3, 3), stride=(1, 1), padding=(1, 1), bias=False)\n",
      "      (bn2): BatchNorm2d(256, eps=1e-05, momentum=0.1, affine=True, track_running_stats=True)\n",
      "    )\n",
      "    (2): BasicBlock(\n",
      "      (conv1): Conv2d(256, 256, kernel_size=(3, 3), stride=(1, 1), padding=(1, 1), bias=False)\n",
      "      (bn1): BatchNorm2d(256, eps=1e-05, momentum=0.1, affine=True, track_running_stats=True)\n",
      "      (relu): ReLU(inplace=True)\n",
      "      (conv2): Conv2d(256, 256, kernel_size=(3, 3), stride=(1, 1), padding=(1, 1), bias=False)\n",
      "      (bn2): BatchNorm2d(256, eps=1e-05, momentum=0.1, affine=True, track_running_stats=True)\n",
      "    )\n",
      "    (3): BasicBlock(\n",
      "      (conv1): Conv2d(256, 256, kernel_size=(3, 3), stride=(1, 1), padding=(1, 1), bias=False)\n",
      "      (bn1): BatchNorm2d(256, eps=1e-05, momentum=0.1, affine=True, track_running_stats=True)\n",
      "      (relu): ReLU(inplace=True)\n",
      "      (conv2): Conv2d(256, 256, kernel_size=(3, 3), stride=(1, 1), padding=(1, 1), bias=False)\n",
      "      (bn2): BatchNorm2d(256, eps=1e-05, momentum=0.1, affine=True, track_running_stats=True)\n",
      "    )\n",
      "    (4): BasicBlock(\n",
      "      (conv1): Conv2d(256, 256, kernel_size=(3, 3), stride=(1, 1), padding=(1, 1), bias=False)\n",
      "      (bn1): BatchNorm2d(256, eps=1e-05, momentum=0.1, affine=True, track_running_stats=True)\n",
      "      (relu): ReLU(inplace=True)\n",
      "      (conv2): Conv2d(256, 256, kernel_size=(3, 3), stride=(1, 1), padding=(1, 1), bias=False)\n",
      "      (bn2): BatchNorm2d(256, eps=1e-05, momentum=0.1, affine=True, track_running_stats=True)\n",
      "    )\n",
      "    (5): BasicBlock(\n",
      "      (conv1): Conv2d(256, 256, kernel_size=(3, 3), stride=(1, 1), padding=(1, 1), bias=False)\n",
      "      (bn1): BatchNorm2d(256, eps=1e-05, momentum=0.1, affine=True, track_running_stats=True)\n",
      "      (relu): ReLU(inplace=True)\n",
      "      (conv2): Conv2d(256, 256, kernel_size=(3, 3), stride=(1, 1), padding=(1, 1), bias=False)\n",
      "      (bn2): BatchNorm2d(256, eps=1e-05, momentum=0.1, affine=True, track_running_stats=True)\n",
      "    )\n",
      "  )\n",
      "  (layer4): Sequential(\n",
      "    (0): BasicBlock(\n",
      "      (conv1): Conv2d(256, 512, kernel_size=(3, 3), stride=(2, 2), padding=(1, 1), bias=False)\n",
      "      (bn1): BatchNorm2d(512, eps=1e-05, momentum=0.1, affine=True, track_running_stats=True)\n",
      "      (relu): ReLU(inplace=True)\n",
      "      (conv2): Conv2d(512, 512, kernel_size=(3, 3), stride=(1, 1), padding=(1, 1), bias=False)\n",
      "      (bn2): BatchNorm2d(512, eps=1e-05, momentum=0.1, affine=True, track_running_stats=True)\n",
      "      (downsample): Sequential(\n",
      "        (0): Conv2d(256, 512, kernel_size=(1, 1), stride=(2, 2), bias=False)\n",
      "        (1): BatchNorm2d(512, eps=1e-05, momentum=0.1, affine=True, track_running_stats=True)\n",
      "      )\n",
      "    )\n",
      "    (1): BasicBlock(\n",
      "      (conv1): Conv2d(512, 512, kernel_size=(3, 3), stride=(1, 1), padding=(1, 1), bias=False)\n",
      "      (bn1): BatchNorm2d(512, eps=1e-05, momentum=0.1, affine=True, track_running_stats=True)\n",
      "      (relu): ReLU(inplace=True)\n",
      "      (conv2): Conv2d(512, 512, kernel_size=(3, 3), stride=(1, 1), padding=(1, 1), bias=False)\n",
      "      (bn2): BatchNorm2d(512, eps=1e-05, momentum=0.1, affine=True, track_running_stats=True)\n",
      "    )\n",
      "    (2): BasicBlock(\n",
      "      (conv1): Conv2d(512, 512, kernel_size=(3, 3), stride=(1, 1), padding=(1, 1), bias=False)\n",
      "      (bn1): BatchNorm2d(512, eps=1e-05, momentum=0.1, affine=True, track_running_stats=True)\n",
      "      (relu): ReLU(inplace=True)\n",
      "      (conv2): Conv2d(512, 512, kernel_size=(3, 3), stride=(1, 1), padding=(1, 1), bias=False)\n",
      "      (bn2): BatchNorm2d(512, eps=1e-05, momentum=0.1, affine=True, track_running_stats=True)\n",
      "    )\n",
      "  )\n",
      "  (avgpool): AdaptiveAvgPool2d(output_size=(1, 1))\n",
      "  (fc): Sequential(\n",
      "    (0): Linear(in_features=512, out_features=1000, bias=True)\n",
      "    (1): Linear(in_features=1000, out_features=2, bias=True)\n",
      "  )\n",
      ")\n"
     ]
    }
   ],
   "source": [
    "resnet.fc = torch.nn.Sequential(resnet.fc, torch.nn.Linear(1000, 2))\n",
    "print(resnet)"
   ]
  },
  {
   "cell_type": "code",
   "execution_count": 44,
   "id": "1bf27173",
   "metadata": {
    "scrolled": true
   },
   "outputs": [
    {
     "name": "stdout",
     "output_type": "stream",
     "text": [
      "Epoch [1/20], Step [10/74], Loss: 0.2214\n",
      "Epoch [1/20], Step [20/74], Loss: 0.2469\n",
      "Epoch [1/20], Step [30/74], Loss: 0.1384\n",
      "Epoch [1/20], Step [40/74], Loss: 0.0936\n",
      "Epoch [1/20], Step [50/74], Loss: 0.1077\n",
      "Epoch [1/20], Step [60/74], Loss: 0.1040\n",
      "Epoch [1/20], Step [70/74], Loss: 0.1805\n",
      "Epoch [2/20], Step [10/74], Loss: 0.3449\n",
      "Epoch [2/20], Step [20/74], Loss: 0.3127\n",
      "Epoch [2/20], Step [30/74], Loss: 0.1290\n",
      "Epoch [2/20], Step [40/74], Loss: 0.0418\n",
      "Epoch [2/20], Step [50/74], Loss: 0.1033\n",
      "Epoch [2/20], Step [60/74], Loss: 0.1413\n",
      "Epoch [2/20], Step [70/74], Loss: 0.1050\n",
      "Epoch [3/20], Step [10/74], Loss: 0.2746\n",
      "Epoch [3/20], Step [20/74], Loss: 0.1517\n",
      "Epoch [3/20], Step [30/74], Loss: 0.2112\n",
      "Epoch [3/20], Step [40/74], Loss: 0.1230\n",
      "Epoch [3/20], Step [50/74], Loss: 0.0628\n",
      "Epoch [3/20], Step [60/74], Loss: 0.0847\n",
      "Epoch [3/20], Step [70/74], Loss: 0.0843\n",
      "Epoch [4/20], Step [10/74], Loss: 0.2507\n",
      "Epoch [4/20], Step [20/74], Loss: 0.1078\n",
      "Epoch [4/20], Step [30/74], Loss: 0.1251\n",
      "Epoch [4/20], Step [40/74], Loss: 0.1502\n",
      "Epoch [4/20], Step [50/74], Loss: 0.1970\n",
      "Epoch [4/20], Step [60/74], Loss: 0.0288\n",
      "Epoch [4/20], Step [70/74], Loss: 0.0550\n",
      "Epoch [5/20], Step [10/74], Loss: 0.1084\n",
      "Epoch [5/20], Step [20/74], Loss: 0.1243\n",
      "Epoch [5/20], Step [30/74], Loss: 0.0453\n",
      "Epoch [5/20], Step [40/74], Loss: 0.1236\n",
      "Epoch [5/20], Step [50/74], Loss: 0.0503\n",
      "Epoch [5/20], Step [60/74], Loss: 0.0273\n",
      "Epoch [5/20], Step [70/74], Loss: 0.2932\n",
      "Epoch [6/20], Step [10/74], Loss: 0.1621\n",
      "Epoch [6/20], Step [20/74], Loss: 0.0410\n",
      "Epoch [6/20], Step [30/74], Loss: 0.3177\n",
      "Epoch [6/20], Step [40/74], Loss: 0.0549\n",
      "Epoch [6/20], Step [50/74], Loss: 0.0822\n",
      "Epoch [6/20], Step [60/74], Loss: 0.1102\n",
      "Epoch [6/20], Step [70/74], Loss: 0.0514\n",
      "Epoch [7/20], Step [10/74], Loss: 0.0293\n",
      "Epoch [7/20], Step [20/74], Loss: 0.0699\n",
      "Epoch [7/20], Step [30/74], Loss: 0.6025\n",
      "Epoch [7/20], Step [40/74], Loss: 0.0943\n",
      "Epoch [7/20], Step [50/74], Loss: 0.2168\n",
      "Epoch [7/20], Step [60/74], Loss: 0.0951\n",
      "Epoch [7/20], Step [70/74], Loss: 0.0656\n",
      "Epoch [8/20], Step [10/74], Loss: 0.0961\n",
      "Epoch [8/20], Step [20/74], Loss: 0.0485\n",
      "Epoch [8/20], Step [30/74], Loss: 0.2101\n",
      "Epoch [8/20], Step [40/74], Loss: 0.2559\n",
      "Epoch [8/20], Step [50/74], Loss: 0.2392\n",
      "Epoch [8/20], Step [60/74], Loss: 0.3603\n",
      "Epoch [8/20], Step [70/74], Loss: 0.0964\n",
      "Epoch [9/20], Step [10/74], Loss: 0.0905\n",
      "Epoch [9/20], Step [20/74], Loss: 0.1122\n",
      "Epoch [9/20], Step [30/74], Loss: 0.1181\n",
      "Epoch [9/20], Step [40/74], Loss: 0.1858\n",
      "Epoch [9/20], Step [50/74], Loss: 0.0395\n",
      "Epoch [9/20], Step [60/74], Loss: 0.0852\n",
      "Epoch [9/20], Step [70/74], Loss: 0.0622\n",
      "Epoch [10/20], Step [10/74], Loss: 0.0822\n",
      "Epoch [10/20], Step [20/74], Loss: 0.1053\n",
      "Epoch [10/20], Step [30/74], Loss: 0.0348\n",
      "Epoch [10/20], Step [40/74], Loss: 0.1035\n",
      "Epoch [10/20], Step [50/74], Loss: 0.0808\n",
      "Epoch [10/20], Step [60/74], Loss: 0.0369\n",
      "Epoch [10/20], Step [70/74], Loss: 0.1121\n",
      "Epoch [11/20], Step [10/74], Loss: 0.0117\n",
      "Epoch [11/20], Step [20/74], Loss: 0.0621\n",
      "Epoch [11/20], Step [30/74], Loss: 0.0898\n",
      "Epoch [11/20], Step [40/74], Loss: 0.0871\n",
      "Epoch [11/20], Step [50/74], Loss: 0.0790\n",
      "Epoch [11/20], Step [60/74], Loss: 0.0229\n",
      "Epoch [11/20], Step [70/74], Loss: 0.0709\n",
      "Epoch [12/20], Step [10/74], Loss: 0.0192\n",
      "Epoch [12/20], Step [20/74], Loss: 0.0850\n",
      "Epoch [12/20], Step [30/74], Loss: 0.0093\n",
      "Epoch [12/20], Step [40/74], Loss: 0.1012\n",
      "Epoch [12/20], Step [50/74], Loss: 0.1344\n",
      "Epoch [12/20], Step [60/74], Loss: 0.0544\n",
      "Epoch [12/20], Step [70/74], Loss: 0.1805\n",
      "Epoch [13/20], Step [10/74], Loss: 0.1085\n",
      "Epoch [13/20], Step [20/74], Loss: 0.1020\n",
      "Epoch [13/20], Step [30/74], Loss: 0.0393\n",
      "Epoch [13/20], Step [40/74], Loss: 0.0560\n",
      "Epoch [13/20], Step [50/74], Loss: 0.0563\n",
      "Epoch [13/20], Step [60/74], Loss: 0.0294\n",
      "Epoch [13/20], Step [70/74], Loss: 0.1264\n",
      "Epoch [14/20], Step [10/74], Loss: 0.0233\n",
      "Epoch [14/20], Step [20/74], Loss: 0.0664\n",
      "Epoch [14/20], Step [30/74], Loss: 0.1406\n",
      "Epoch [14/20], Step [40/74], Loss: 0.0168\n",
      "Epoch [14/20], Step [50/74], Loss: 0.0728\n",
      "Epoch [14/20], Step [60/74], Loss: 0.0393\n",
      "Epoch [14/20], Step [70/74], Loss: 0.0141\n",
      "Epoch [15/20], Step [10/74], Loss: 0.1122\n",
      "Epoch [15/20], Step [20/74], Loss: 0.0453\n",
      "Epoch [15/20], Step [30/74], Loss: 0.1082\n",
      "Epoch [15/20], Step [40/74], Loss: 0.0102\n",
      "Epoch [15/20], Step [50/74], Loss: 0.0141\n",
      "Epoch [15/20], Step [60/74], Loss: 0.0921\n",
      "Epoch [15/20], Step [70/74], Loss: 0.0489\n",
      "Epoch [16/20], Step [10/74], Loss: 0.2063\n",
      "Epoch [16/20], Step [20/74], Loss: 0.1008\n",
      "Epoch [16/20], Step [30/74], Loss: 0.1894\n",
      "Epoch [16/20], Step [40/74], Loss: 0.0904\n",
      "Epoch [16/20], Step [50/74], Loss: 0.0599\n",
      "Epoch [16/20], Step [60/74], Loss: 0.2079\n",
      "Epoch [16/20], Step [70/74], Loss: 0.0586\n",
      "Epoch [17/20], Step [10/74], Loss: 0.0499\n",
      "Epoch [17/20], Step [20/74], Loss: 0.0566\n",
      "Epoch [17/20], Step [30/74], Loss: 0.0662\n",
      "Epoch [17/20], Step [40/74], Loss: 0.0149\n",
      "Epoch [17/20], Step [50/74], Loss: 0.1689\n",
      "Epoch [17/20], Step [60/74], Loss: 0.0392\n",
      "Epoch [17/20], Step [70/74], Loss: 0.0381\n",
      "Epoch [18/20], Step [10/74], Loss: 0.1399\n",
      "Epoch [18/20], Step [20/74], Loss: 0.0531\n",
      "Epoch [18/20], Step [30/74], Loss: 0.0138\n",
      "Epoch [18/20], Step [40/74], Loss: 0.0566\n",
      "Epoch [18/20], Step [50/74], Loss: 0.0244\n",
      "Epoch [18/20], Step [60/74], Loss: 0.0359\n",
      "Epoch [18/20], Step [70/74], Loss: 0.0315\n",
      "Epoch [19/20], Step [10/74], Loss: 0.0167\n",
      "Epoch [19/20], Step [20/74], Loss: 0.0067\n",
      "Epoch [19/20], Step [30/74], Loss: 0.0296\n",
      "Epoch [19/20], Step [40/74], Loss: 0.0649\n",
      "Epoch [19/20], Step [50/74], Loss: 0.0182\n",
      "Epoch [19/20], Step [60/74], Loss: 0.3825\n",
      "Epoch [19/20], Step [70/74], Loss: 0.0277\n",
      "Epoch [20/20], Step [10/74], Loss: 0.0051\n",
      "Epoch [20/20], Step [20/74], Loss: 0.0913\n",
      "Epoch [20/20], Step [30/74], Loss: 0.0585\n",
      "Epoch [20/20], Step [40/74], Loss: 0.0677\n",
      "Epoch [20/20], Step [50/74], Loss: 0.0055\n",
      "Epoch [20/20], Step [60/74], Loss: 0.0856\n",
      "Epoch [20/20], Step [70/74], Loss: 0.0530\n"
     ]
    }
   ],
   "source": [
    "criterion=nn.CrossEntropyLoss()\n",
    "optimizer = torch.optim.Adam(resnet.parameters(), lr = 0.001)\n",
    "resnet.train()\n",
    "resnet.to(device)\n",
    "epochs=20\n",
    "\n",
    "for epoch in range(epochs):\n",
    "    for i, (images,labels) in enumerate(train_loader):\n",
    "        output=resnet(images.to(device))\n",
    "        loss=criterion(output,labels.to(device))\n",
    "        optimizer.zero_grad()\n",
    "        loss.backward()\n",
    "        optimizer.step()\n",
    "        if (i+1) % 10 == 0:\n",
    "            print ('Epoch [{}/{}], Step [{}/{}], Loss: {:.4f}'.format(epoch+1, \\\n",
    "                                                                      epochs, \\\n",
    "                                                                      i+1, \\\n",
    "                                                                      len(train_loader), \\\n",
    "                                                                      loss.item()))"
   ]
  },
  {
   "cell_type": "code",
   "execution_count": null,
   "id": "b885bb8c",
   "metadata": {},
   "outputs": [],
   "source": [
    "torch.save({'model_state_dict': resnetl.state_dict(), \n",
    "            'optimizer_state_dict': optimizer.state_dict()}, \n",
    "           './resnet')\n",
    "\n"
   ]
  },
  {
   "cell_type": "code",
   "execution_count": 73,
   "id": "148c569c",
   "metadata": {},
   "outputs": [
    {
     "data": {
      "text/plain": [
       "<All keys matched successfully>"
      ]
     },
     "execution_count": 73,
     "metadata": {},
     "output_type": "execute_result"
    }
   ],
   "source": [
    "resnet.load_state_dict(torch.load(\"./resnet\")[\"model_state_dict\"])"
   ]
  },
  {
   "cell_type": "code",
   "execution_count": 75,
   "id": "536c42c0",
   "metadata": {},
   "outputs": [
    {
     "name": "stdout",
     "output_type": "stream",
     "text": [
      "Test loss: 0.2711, Test accuracy: 0.9214\n",
      "Precision: 0.9223946784922394\n",
      "Recall: 0.9742388758782201\n",
      "F1 score: 0.9476082004555809\n"
     ]
    },
    {
     "data": {
      "image/png": "[encoded data removed]",
      "text/plain": [
       "<Figure size 432x288 with 2 Axes>"
      ]
     },
     "metadata": {
      "needs_background": "light"
     },
     "output_type": "display_data"
    }
   ],
   "source": [
    "true_labels, model_preds, test_loss, test_accuracy = test(device, resnet.to(device), test_loader, get_predictions=True)\n",
    "show_metrics(true_labels, model_preds)"
   ]
  },
  {
   "cell_type": "code",
   "execution_count": null,
   "id": "2dc3e762",
   "metadata": {},
   "outputs": [],
   "source": [
    "resnet.eval()\n",
    "total=0\n",
    "correct=0\n",
    "with torch.no_grad():\n",
    "    for images,labels in test_loader:\n",
    "        output=resnet(images.to(device))\n",
    "        _,predict=torch.max(output.data,1)\n",
    "        total+=labels.size(0)\n",
    "        correct+=(predict == labels.to(device)).sum().item()\n",
    "print('Test accuracy of the model after retraining for 20 epochs: {} %'.format(100*correct/total))"
   ]
  },
  {
   "cell_type": "code",
   "execution_count": 12,
   "id": "f1edf27e",
   "metadata": {},
   "outputs": [],
   "source": [
    "class DeepSearchConv(torch.nn.Module):\n",
    "    def __init__(self, inputs, outputs, kernel = 3):\n",
    "        super(DeepSearchConv, self).__init__()\n",
    "        \n",
    "        self.conv = nn.Conv2d(inputs, outputs, kernel_size = kernel)\n",
    "        self.dropout = nn.Dropout2d(0.5)\n",
    "        self.batch_norm = nn.BatchNorm2d(outputs)\n",
    "        \n",
    "    def forward(self, x):\n",
    "        x = self.conv(x)\n",
    "        x = torch.relu(x)\n",
    "        x = self.batch_norm(x)\n",
    "        x = self.dropout(x)\n",
    "        return x"
   ]
  },
  {
   "cell_type": "code",
   "execution_count": 13,
   "id": "11625367",
   "metadata": {},
   "outputs": [],
   "source": [
    "class DeepSearchDownsize(torch.nn.Module):\n",
    "    def __init__(self, inputs, outputs):\n",
    "        super(DeepSearchDownsize, self).__init__()\n",
    "        \n",
    "        self.maxpool = nn.AvgPool2d(2)\n",
    "        self.linear = nn.Linear(inputs, outputs)\n",
    "        self.inputs = inputs\n",
    "        \n",
    "    def forward(self, x):\n",
    "        x = self.maxpool(x)\n",
    "        x = x.view(-1, self.inputs)\n",
    "        x = self.linear(x)\n",
    "        return x"
   ]
  },
  {
   "cell_type": "code",
   "execution_count": 14,
   "id": "84896420",
   "metadata": {},
   "outputs": [],
   "source": [
    "class DeepSearchLinear(torch.nn.Module):\n",
    "    def __init__(self, inputs, outputs):\n",
    "        super(DeepSearchLinear, self).__init__()\n",
    "        \n",
    "        self.batch_norm = nn.BatchNorm1d(inputs)\n",
    "        self.dropout = nn.Dropout(0.5)\n",
    "        self.linear = nn.Linear(inputs, outputs)\n",
    "        \n",
    "    def forward(self, x):\n",
    "        x = torch.relu(x)\n",
    "        x = self.batch_norm(x)\n",
    "        x = self.dropout(x)\n",
    "        x = self.linear(x)\n",
    "        return x"
   ]
  },
  {
   "cell_type": "code",
   "execution_count": 15,
   "id": "900dd21c",
   "metadata": {},
   "outputs": [],
   "source": [
    "class DeepSearch(torch.nn.Module):\n",
    "    def __init__(self, hidden, flattened, linear, labels):\n",
    "        super(DeepSearch, self).__init__()\n",
    "        \n",
    "        self.conv = [ DeepSearchConv( hidden[i], hidden[i+1] ) for i in range(len(hidden)-1) ]\n",
    "        self.conv1 = [ DeepSearchConv( hidden[i+1], hidden[i+1] ) for i in range(len(hidden)-1) ]\n",
    "        self.downsize = DeepSearchDownsize(flattened, linear)\n",
    "        self.output = DeepSearchLinear(linear, labels)\n",
    "        \n",
    "        self.combined = nn.Sequential(*self.conv,\n",
    "                                     *self.conv1,\n",
    "                                      self.downsize,\n",
    "                                      self.output\n",
    "                                     )\n",
    "    \n",
    "    def forward(self, x):\n",
    "        x = self.combined(x)\n",
    "        return x"
   ]
  },
  {
   "cell_type": "code",
   "execution_count": 16,
   "id": "5b490318",
   "metadata": {},
   "outputs": [],
   "source": [
    "train_losses = []\n",
    "train_accuracies = []\n",
    "val_losses = []\n",
    "val_accuracies = []\n",
    "test_losses = []\n",
    "test_accuracies = []"
   ]
  },
  {
   "cell_type": "code",
   "execution_count": 17,
   "id": "b132961e",
   "metadata": {},
   "outputs": [],
   "source": [
    "def train(model, train_loader, valid_loader, test_loader, optimizer, epochs = 10):\n",
    "    # Use cross-entropy loss function\n",
    "    criterion = nn.CrossEntropyLoss()\n",
    "    \n",
    "    for epoch in range(epochs):\n",
    "        # Set model to training mode\n",
    "        model.train()\n",
    "        # Initialize epoch loss and accuracy\n",
    "        epoch_loss = 0.0\n",
    "        correct = 0\n",
    "        total = 0\n",
    "        # Iterate over training data\n",
    "        for batch_number, (inputs, labels) in enumerate(train_loader):\n",
    "            # Get from dataloader and send to device\n",
    "            inputs = inputs.to(device)\n",
    "            labels = labels.to(device)\n",
    "            # Zero out gradients\n",
    "            optimizer.zero_grad()\n",
    "            # Compute model output and loss\n",
    "            outputs = model(inputs)\n",
    "            _, predicted = torch.max(outputs.data, 1)\n",
    "            loss = criterion(outputs, labels)\n",
    "            # Backpropagate loss and update model weights\n",
    "            loss.backward()\n",
    "            optimizer.step()\n",
    "            # Accumulate loss and correct predictions for epoch\n",
    "            epoch_loss += loss.item()\n",
    "            total += labels.size(0)\n",
    "            correct += (predicted == labels).sum().item()\n",
    "            print(f'Epoch {epoch+1}/{epochs}, Batch number: {batch_number}, Cumulated accuracy: {correct/total}')\n",
    "        # Calculate epoch loss and accuracy\n",
    "        epoch_loss /= len(train_loader)\n",
    "        epoch_acc = correct/total\n",
    "        train_losses.append(epoch_loss)\n",
    "        train_accuracies.append(epoch_acc)\n",
    "        print(f'--- Epoch {epoch+1}/{epochs}: Train loss: {epoch_loss:.4f}, Train accuracy: {epoch_acc:.4f}')\n",
    "        \n",
    "        # Set model to evaluation mode\n",
    "        model.eval()\n",
    "        # Initialize epoch loss and accuracy\n",
    "        epoch_loss = 0.0\n",
    "        correct = 0\n",
    "        total = 0\n",
    "        # Iterate over test data\n",
    "        for inputs, labels in valid_loader:\n",
    "            # Get from dataloader and send to device\n",
    "            inputs = inputs.to(device)\n",
    "            labels = labels.to(device)\n",
    "            # Compute model output and loss\n",
    "            # (No grad computation here, as it is the test data)\n",
    "            with torch.no_grad():\n",
    "                outputs = model(inputs)\n",
    "                \n",
    "                _, predicted = torch.max(outputs.data, 1)\n",
    "                loss = criterion(outputs, labels)\n",
    "            # Accumulate loss and correct predictions for epoch\n",
    "            epoch_loss += loss.item()\n",
    "            total += labels.size(0)\n",
    "            correct += (predicted == labels).sum().item()\n",
    "        # Calculate epoch loss and accuracy\n",
    "        epoch_loss /= len(valid_loader)\n",
    "        epoch_acc = correct/total\n",
    "        val_losses.append(epoch_loss)\n",
    "        val_accuracies.append(epoch_acc)\n",
    "        print(f'--- Epoch {epoch+1}/{epochs}: Val loss: {epoch_loss:.4f}, Val accuracy: {epoch_acc:.4f}')\n",
    "    \n",
    "    model.eval()\n",
    "    # Initialize epoch loss and accuracy\n",
    "    epoch_loss = 0.0\n",
    "    correct = 0\n",
    "    total = 0\n",
    "    # Iterate over test data\n",
    "    for inputs, labels in test_loader:\n",
    "        # Get from dataloader and send to device\n",
    "        inputs = inputs.to(device)\n",
    "        labels = labels.to(device)\n",
    "        # Compute model output and loss\n",
    "        # (No grad computation here, as it is the test data)\n",
    "        with torch.no_grad():\n",
    "            outputs = model(inputs)\n",
    "            _, predicted = torch.max(outputs.data, 1)\n",
    "            loss = criterion(outputs, labels)\n",
    "            \n",
    "        # Accumulate loss and correct predictions for epoch\n",
    "        epoch_loss += loss.item()\n",
    "        total += labels.size(0)\n",
    "        correct += (predicted == labels).sum().item()\n",
    "        # Calculate epoch loss and accuracy\n",
    "    epoch_loss /= len(test_loader)\n",
    "    epoch_acc = correct/total\n",
    "    test_losses.append(epoch_loss)\n",
    "    test_accuracies.append(epoch_acc)\n",
    "    print(f'Test loss: {epoch_loss:.4f}, Test accuracy: {epoch_acc:.4f}')\n",
    "    return train_losses, train_accuracies, val_losses, val_accuracies, test_losses, test_accuracies"
   ]
  },
  {
   "cell_type": "code",
   "execution_count": 18,
   "id": "4110c778",
   "metadata": {},
   "outputs": [],
   "source": [
    "def create_adam_optimizer(lr = 0.1, betas=(0.9, 0.999), amsgrad=False):\n",
    "    return optim.Adam(model.parameters(), lr=lr, betas=betas)"
   ]
  },
  {
   "cell_type": "code",
   "execution_count": 19,
   "id": "d48c1271",
   "metadata": {},
   "outputs": [
    {
     "name": "stdout",
     "output_type": "stream",
     "text": [
      "63\n"
     ]
    }
   ],
   "source": [
    "from math import floor\n",
    "hidden = [1, 32]\n",
    "channels = hidden[-1]\n",
    "changed_img = floor((size-2*(len(hidden)-1))/2)  \n",
    "linear = 256\n",
    "labels = 2\n",
    "flattened = 123008\n",
    "print(changed_img)"
   ]
  },
  {
   "cell_type": "code",
   "execution_count": null,
   "id": "8de23b1e",
   "metadata": {},
   "outputs": [],
   "source": []
  },
  {
   "cell_type": "code",
   "execution_count": 20,
   "id": "fe57f3d2",
   "metadata": {},
   "outputs": [
    {
     "data": {
      "text/plain": [
       "'------------------------------------------------------------------------------\\n           Layer (type)          Output Shape         Param #     Tr. Param #\\n==============================================================================\\n       DeepSearchConv-1     [1, 32, 126, 126]             384             384\\n       DeepSearchConv-2     [1, 32, 124, 124]           9,312           9,312\\n   DeepSearchDownsize-3              [1, 256]      31,490,304      31,490,304\\n     DeepSearchLinear-4                [1, 2]           1,026           1,026\\n==============================================================================\\nTotal params: 31,501,026\\nTrainable params: 31,501,026\\nNon-trainable params: 0\\n------------------------------------------------------------------------------'"
      ]
     },
     "execution_count": 20,
     "metadata": {},
     "output_type": "execute_result"
    }
   ],
   "source": [
    "model = DeepSearch(hidden=hidden, flattened=flattened, linear=linear, labels=labels).to(device)\n",
    "optimizer = create_adam_optimizer()\n",
    "summary(model, torch.zeros((1, 1, 128, 128)).to(device), show_input=False)"
   ]
  },
  {
   "cell_type": "code",
   "execution_count": 21,
   "id": "b1a46acc",
   "metadata": {},
   "outputs": [
    {
     "data": {
      "text/plain": [
       "DeepSearch(\n",
       "  (downsize): DeepSearchDownsize(\n",
       "    (maxpool): AvgPool2d(kernel_size=2, stride=2, padding=0)\n",
       "    (linear): Linear(in_features=123008, out_features=256, bias=True)\n",
       "  )\n",
       "  (output): DeepSearchLinear(\n",
       "    (batch_norm): BatchNorm1d(256, eps=1e-05, momentum=0.1, affine=True, track_running_stats=True)\n",
       "    (dropout): Dropout(p=0.5, inplace=False)\n",
       "    (linear): Linear(in_features=256, out_features=2, bias=True)\n",
       "  )\n",
       "  (combined): Sequential(\n",
       "    (0): DeepSearchConv(\n",
       "      (conv): Conv2d(1, 32, kernel_size=(3, 3), stride=(1, 1))\n",
       "      (dropout): Dropout2d(p=0.5, inplace=False)\n",
       "      (batch_norm): BatchNorm2d(32, eps=1e-05, momentum=0.1, affine=True, track_running_stats=True)\n",
       "    )\n",
       "    (1): DeepSearchConv(\n",
       "      (conv): Conv2d(32, 32, kernel_size=(3, 3), stride=(1, 1))\n",
       "      (dropout): Dropout2d(p=0.5, inplace=False)\n",
       "      (batch_norm): BatchNorm2d(32, eps=1e-05, momentum=0.1, affine=True, track_running_stats=True)\n",
       "    )\n",
       "    (2): DeepSearchDownsize(\n",
       "      (maxpool): AvgPool2d(kernel_size=2, stride=2, padding=0)\n",
       "      (linear): Linear(in_features=123008, out_features=256, bias=True)\n",
       "    )\n",
       "    (3): DeepSearchLinear(\n",
       "      (batch_norm): BatchNorm1d(256, eps=1e-05, momentum=0.1, affine=True, track_running_stats=True)\n",
       "      (dropout): Dropout(p=0.5, inplace=False)\n",
       "      (linear): Linear(in_features=256, out_features=2, bias=True)\n",
       "    )\n",
       "  )\n",
       ")"
      ]
     },
     "execution_count": 21,
     "metadata": {},
     "output_type": "execute_result"
    }
   ],
   "source": [
    "model"
   ]
  },
  {
   "cell_type": "code",
   "execution_count": 23,
   "id": "8589e8cd",
   "metadata": {
    "scrolled": true
   },
   "outputs": [
    {
     "name": "stdout",
     "output_type": "stream",
     "text": [
      "Wall time: 0 ns\n",
      "Epoch 1/2, Batch number: 0, Cumulated accuracy: 0.46875\n",
      "Epoch 1/2, Batch number: 1, Cumulated accuracy: 0.453125\n",
      "Epoch 1/2, Batch number: 2, Cumulated accuracy: 0.4635416666666667\n",
      "Epoch 1/2, Batch number: 3, Cumulated accuracy: 0.48828125\n",
      "Epoch 1/2, Batch number: 4, Cumulated accuracy: 0.50625\n",
      "Epoch 1/2, Batch number: 5, Cumulated accuracy: 0.5052083333333334\n",
      "Epoch 1/2, Batch number: 6, Cumulated accuracy: 0.5\n",
      "Epoch 1/2, Batch number: 7, Cumulated accuracy: 0.48828125\n",
      "Epoch 1/2, Batch number: 8, Cumulated accuracy: 0.4947916666666667\n",
      "Epoch 1/2, Batch number: 9, Cumulated accuracy: 0.503125\n",
      "Epoch 1/2, Batch number: 10, Cumulated accuracy: 0.5056818181818182\n",
      "Epoch 1/2, Batch number: 11, Cumulated accuracy: 0.515625\n",
      "Epoch 1/2, Batch number: 12, Cumulated accuracy: 0.5264423076923077\n",
      "Epoch 1/2, Batch number: 13, Cumulated accuracy: 0.5279017857142857\n",
      "Epoch 1/2, Batch number: 14, Cumulated accuracy: 0.5364583333333334\n",
      "Epoch 1/2, Batch number: 15, Cumulated accuracy: 0.5390625\n",
      "Epoch 1/2, Batch number: 16, Cumulated accuracy: 0.5395220588235294\n",
      "Epoch 1/2, Batch number: 17, Cumulated accuracy: 0.5416666666666666\n",
      "Epoch 1/2, Batch number: 18, Cumulated accuracy: 0.5460526315789473\n",
      "Epoch 1/2, Batch number: 19, Cumulated accuracy: 0.5546875\n",
      "Epoch 1/2, Batch number: 20, Cumulated accuracy: 0.5565476190476191\n",
      "Epoch 1/2, Batch number: 21, Cumulated accuracy: 0.5617897727272727\n",
      "Epoch 1/2, Batch number: 22, Cumulated accuracy: 0.5672554347826086\n",
      "Epoch 1/2, Batch number: 23, Cumulated accuracy: 0.5755208333333334\n",
      "Epoch 1/2, Batch number: 24, Cumulated accuracy: 0.578125\n",
      "Epoch 1/2, Batch number: 25, Cumulated accuracy: 0.5835336538461539\n",
      "Epoch 1/2, Batch number: 26, Cumulated accuracy: 0.5856481481481481\n",
      "Epoch 1/2, Batch number: 27, Cumulated accuracy: 0.58984375\n",
      "Epoch 1/2, Batch number: 28, Cumulated accuracy: 0.5921336206896551\n",
      "Epoch 1/2, Batch number: 29, Cumulated accuracy: 0.5963541666666666\n",
      "Epoch 1/2, Batch number: 30, Cumulated accuracy: 0.5997983870967742\n",
      "Epoch 1/2, Batch number: 31, Cumulated accuracy: 0.5986328125\n",
      "Epoch 1/2, Batch number: 32, Cumulated accuracy: 0.603219696969697\n",
      "Epoch 1/2, Batch number: 33, Cumulated accuracy: 0.6056985294117647\n",
      "Epoch 1/2, Batch number: 34, Cumulated accuracy: 0.60625\n",
      "Epoch 1/2, Batch number: 35, Cumulated accuracy: 0.6124131944444444\n",
      "Epoch 1/2, Batch number: 36, Cumulated accuracy: 0.613597972972973\n",
      "Epoch 1/2, Batch number: 37, Cumulated accuracy: 0.6130756578947368\n",
      "Epoch 1/2, Batch number: 38, Cumulated accuracy: 0.6177884615384616\n",
      "Epoch 1/2, Batch number: 39, Cumulated accuracy: 0.621484375\n",
      "Epoch 1/2, Batch number: 40, Cumulated accuracy: 0.6238567073170732\n",
      "Epoch 1/2, Batch number: 41, Cumulated accuracy: 0.625\n",
      "Epoch 1/2, Batch number: 42, Cumulated accuracy: 0.626453488372093\n",
      "Epoch 1/2, Batch number: 43, Cumulated accuracy: 0.6310369318181818\n",
      "Epoch 1/2, Batch number: 44, Cumulated accuracy: 0.6326388888888889\n",
      "Epoch 1/2, Batch number: 45, Cumulated accuracy: 0.6328125\n",
      "Epoch 1/2, Batch number: 46, Cumulated accuracy: 0.6366356382978723\n",
      "Epoch 1/2, Batch number: 47, Cumulated accuracy: 0.6402994791666666\n",
      "Epoch 1/2, Batch number: 48, Cumulated accuracy: 0.6425382653061225\n",
      "Epoch 1/2, Batch number: 49, Cumulated accuracy: 0.64125\n",
      "Epoch 1/2, Batch number: 50, Cumulated accuracy: 0.6436887254901961\n",
      "Epoch 1/2, Batch number: 51, Cumulated accuracy: 0.6442307692307693\n",
      "Epoch 1/2, Batch number: 52, Cumulated accuracy: 0.6459316037735849\n",
      "Epoch 1/2, Batch number: 53, Cumulated accuracy: 0.6469907407407407\n",
      "Epoch 1/2, Batch number: 54, Cumulated accuracy: 0.6482954545454546\n",
      "Epoch 1/2, Batch number: 55, Cumulated accuracy: 0.6492745535714286\n",
      "Epoch 1/2, Batch number: 56, Cumulated accuracy: 0.6513157894736842\n",
      "Epoch 1/2, Batch number: 57, Cumulated accuracy: 0.6532866379310345\n",
      "Epoch 1/2, Batch number: 58, Cumulated accuracy: 0.6559851694915254\n",
      "Epoch 1/2, Batch number: 59, Cumulated accuracy: 0.6549479166666666\n",
      "Epoch 1/2, Batch number: 60, Cumulated accuracy: 0.65625\n",
      "Epoch 1/2, Batch number: 61, Cumulated accuracy: 0.6570060483870968\n",
      "Epoch 1/2, Batch number: 62, Cumulated accuracy: 0.6589781746031746\n",
      "Epoch 1/2, Batch number: 63, Cumulated accuracy: 0.66162109375\n",
      "Epoch 1/2, Batch number: 64, Cumulated accuracy: 0.6629807692307692\n",
      "Epoch 1/2, Batch number: 65, Cumulated accuracy: 0.6645359848484849\n",
      "Epoch 1/2, Batch number: 66, Cumulated accuracy: 0.6644123134328358\n",
      "Epoch 1/2, Batch number: 67, Cumulated accuracy: 0.6665900735294118\n",
      "Epoch 1/2, Batch number: 68, Cumulated accuracy: 0.6680253623188406\n",
      "Epoch 1/2, Batch number: 69, Cumulated accuracy: 0.6700892857142857\n",
      "Epoch 1/2, Batch number: 70, Cumulated accuracy: 0.6714348591549296\n",
      "Epoch 1/2, Batch number: 71, Cumulated accuracy: 0.6723090277777778\n",
      "Epoch 1/2, Batch number: 72, Cumulated accuracy: 0.6712328767123288\n",
      "Epoch 1/2, Batch number: 73, Cumulated accuracy: 0.6711481007255655\n",
      "--- Epoch 1/2: Train loss: 1.6170, Train accuracy: 0.6711\n",
      "--- Epoch 1/2: Val loss: 0.4019, Val accuracy: 0.8786\n",
      "Epoch 2/2, Batch number: 0, Cumulated accuracy: 0.6875\n",
      "Epoch 2/2, Batch number: 1, Cumulated accuracy: 0.734375\n",
      "Epoch 2/2, Batch number: 2, Cumulated accuracy: 0.734375\n",
      "Epoch 2/2, Batch number: 3, Cumulated accuracy: 0.74609375\n",
      "Epoch 2/2, Batch number: 4, Cumulated accuracy: 0.728125\n",
      "Epoch 2/2, Batch number: 5, Cumulated accuracy: 0.71875\n",
      "Epoch 2/2, Batch number: 6, Cumulated accuracy: 0.7321428571428571\n",
      "Epoch 2/2, Batch number: 7, Cumulated accuracy: 0.734375\n",
      "Epoch 2/2, Batch number: 8, Cumulated accuracy: 0.7361111111111112\n",
      "Epoch 2/2, Batch number: 9, Cumulated accuracy: 0.740625\n",
      "Epoch 2/2, Batch number: 10, Cumulated accuracy: 0.7372159090909091\n",
      "Epoch 2/2, Batch number: 11, Cumulated accuracy: 0.7421875\n",
      "Epoch 2/2, Batch number: 12, Cumulated accuracy: 0.7524038461538461\n",
      "Epoch 2/2, Batch number: 13, Cumulated accuracy: 0.7611607142857143\n",
      "Epoch 2/2, Batch number: 14, Cumulated accuracy: 0.7625\n",
      "Epoch 2/2, Batch number: 15, Cumulated accuracy: 0.763671875\n",
      "Epoch 2/2, Batch number: 16, Cumulated accuracy: 0.7637867647058824\n",
      "Epoch 2/2, Batch number: 17, Cumulated accuracy: 0.7647569444444444\n",
      "Epoch 2/2, Batch number: 18, Cumulated accuracy: 0.7697368421052632\n",
      "Epoch 2/2, Batch number: 19, Cumulated accuracy: 0.76796875\n",
      "Epoch 2/2, Batch number: 20, Cumulated accuracy: 0.7745535714285714\n",
      "Epoch 2/2, Batch number: 21, Cumulated accuracy: 0.7826704545454546\n",
      "Epoch 2/2, Batch number: 22, Cumulated accuracy: 0.7887228260869565\n",
      "Epoch 2/2, Batch number: 23, Cumulated accuracy: 0.7916666666666666\n",
      "Epoch 2/2, Batch number: 24, Cumulated accuracy: 0.79375\n",
      "Epoch 2/2, Batch number: 25, Cumulated accuracy: 0.7986778846153846\n",
      "Epoch 2/2, Batch number: 26, Cumulated accuracy: 0.7991898148148148\n",
      "Epoch 2/2, Batch number: 27, Cumulated accuracy: 0.8002232142857143\n",
      "Epoch 2/2, Batch number: 28, Cumulated accuracy: 0.8017241379310345\n",
      "Epoch 2/2, Batch number: 29, Cumulated accuracy: 0.8010416666666667\n",
      "Epoch 2/2, Batch number: 30, Cumulated accuracy: 0.8024193548387096\n",
      "Epoch 2/2, Batch number: 31, Cumulated accuracy: 0.80322265625\n",
      "Epoch 2/2, Batch number: 32, Cumulated accuracy: 0.8039772727272727\n",
      "Epoch 2/2, Batch number: 33, Cumulated accuracy: 0.8060661764705882\n",
      "Epoch 2/2, Batch number: 34, Cumulated accuracy: 0.8084821428571428\n",
      "Epoch 2/2, Batch number: 35, Cumulated accuracy: 0.8120659722222222\n",
      "Epoch 2/2, Batch number: 36, Cumulated accuracy: 0.8112331081081081\n",
      "Epoch 2/2, Batch number: 37, Cumulated accuracy: 0.8120888157894737\n",
      "Epoch 2/2, Batch number: 38, Cumulated accuracy: 0.8137019230769231\n",
      "Epoch 2/2, Batch number: 39, Cumulated accuracy: 0.8140625\n",
      "Epoch 2/2, Batch number: 40, Cumulated accuracy: 0.8155487804878049\n",
      "Epoch 2/2, Batch number: 41, Cumulated accuracy: 0.8143601190476191\n",
      "Epoch 2/2, Batch number: 42, Cumulated accuracy: 0.8161337209302325\n",
      "Epoch 2/2, Batch number: 43, Cumulated accuracy: 0.8174715909090909\n",
      "Epoch 2/2, Batch number: 44, Cumulated accuracy: 0.8170138888888889\n",
      "Epoch 2/2, Batch number: 45, Cumulated accuracy: 0.8179347826086957\n",
      "Epoch 2/2, Batch number: 46, Cumulated accuracy: 0.8184840425531915\n",
      "Epoch 2/2, Batch number: 47, Cumulated accuracy: 0.8199869791666666\n",
      "Epoch 2/2, Batch number: 48, Cumulated accuracy: 0.8217474489795918\n",
      "Epoch 2/2, Batch number: 49, Cumulated accuracy: 0.821875\n"
     ]
    },
    {
     "name": "stdout",
     "output_type": "stream",
     "text": [
      "Epoch 2/2, Batch number: 50, Cumulated accuracy: 0.8232230392156863\n",
      "Epoch 2/2, Batch number: 51, Cumulated accuracy: 0.8254206730769231\n",
      "Epoch 2/2, Batch number: 52, Cumulated accuracy: 0.8266509433962265\n",
      "Epoch 2/2, Batch number: 53, Cumulated accuracy: 0.8263888888888888\n",
      "Epoch 2/2, Batch number: 54, Cumulated accuracy: 0.8264204545454545\n",
      "Epoch 2/2, Batch number: 55, Cumulated accuracy: 0.8258928571428571\n",
      "Epoch 2/2, Batch number: 56, Cumulated accuracy: 0.8264802631578947\n",
      "Epoch 2/2, Batch number: 57, Cumulated accuracy: 0.8265086206896551\n",
      "Epoch 2/2, Batch number: 58, Cumulated accuracy: 0.8270656779661016\n",
      "Epoch 2/2, Batch number: 59, Cumulated accuracy: 0.8278645833333333\n",
      "Epoch 2/2, Batch number: 60, Cumulated accuracy: 0.8288934426229508\n",
      "Epoch 2/2, Batch number: 61, Cumulated accuracy: 0.8296370967741935\n",
      "Epoch 2/2, Batch number: 62, Cumulated accuracy: 0.8293650793650794\n",
      "Epoch 2/2, Batch number: 63, Cumulated accuracy: 0.82958984375\n",
      "Epoch 2/2, Batch number: 64, Cumulated accuracy: 0.8295673076923077\n",
      "Epoch 2/2, Batch number: 65, Cumulated accuracy: 0.8302556818181818\n",
      "Epoch 2/2, Batch number: 66, Cumulated accuracy: 0.8306902985074627\n",
      "Epoch 2/2, Batch number: 67, Cumulated accuracy: 0.8318014705882353\n",
      "Epoch 2/2, Batch number: 68, Cumulated accuracy: 0.8331068840579711\n",
      "Epoch 2/2, Batch number: 69, Cumulated accuracy: 0.8330357142857143\n",
      "Epoch 2/2, Batch number: 70, Cumulated accuracy: 0.832306338028169\n",
      "Epoch 2/2, Batch number: 71, Cumulated accuracy: 0.8337673611111112\n",
      "Epoch 2/2, Batch number: 72, Cumulated accuracy: 0.8341181506849316\n",
      "Epoch 2/2, Batch number: 73, Cumulated accuracy: 0.8346137430644472\n",
      "--- Epoch 2/2: Train loss: 0.4385, Train accuracy: 0.8346\n",
      "--- Epoch 2/2: Val loss: 0.3995, Val accuracy: 0.8462\n",
      "Test loss: 0.3845, Test accuracy: 0.8444\n"
     ]
    }
   ],
   "source": [
    "%time\n",
    "train_losses, train_accuracies, val_losses, val_accuracies, test_losses, test_accuracies = train(model, \\\n",
    "                                                                                             train_loader, \\\n",
    "                                                                                             val_loader, \\\n",
    "                                                                                             test_loader, \\\n",
    "                                                                                             epochs = 2, \\\n",
    "                                                                                             optimizer = optimizer)"
   ]
  },
  {
   "cell_type": "code",
   "execution_count": 49,
   "id": "0ecd9782",
   "metadata": {},
   "outputs": [
    {
     "data": {
      "image/png": "[encoded data removed]",
      "text/plain": [
       "<Figure size 432x288 with 1 Axes>"
      ]
     },
     "metadata": {
      "needs_background": "light"
     },
     "output_type": "display_data"
    }
   ],
   "source": [
    "plt.plot(train_accuracies, \"b--\")\n",
    "plt.plot(val_accuracies, \"r--\")\n",
    "plt.title(\"Final Accuracy: {}\".format(test_accuracies[-1]))\n",
    "plt.show()"
   ]
  },
  {
   "cell_type": "code",
   "execution_count": 52,
   "id": "07aec5ba",
   "metadata": {},
   "outputs": [],
   "source": [
    "torch.save({'model_state_dict': model.state_dict(),\n",
    "            'optimizer_state_dict': optimizer.state_dict()}, \n",
    "            './wow')"
   ]
  },
  {
   "cell_type": "code",
   "execution_count": 53,
   "id": "5d01bde9",
   "metadata": {},
   "outputs": [],
   "source": [
    "entire_dataset = torch.utils.data.ConcatDataset([ train_data, test_data, val_data ])\n",
    "full_loader = produce_loader(entire_dataset)"
   ]
  },
  {
   "cell_type": "code",
   "execution_count": 54,
   "id": "ed56a083",
   "metadata": {},
   "outputs": [],
   "source": [
    "def test(model, data_loader):\n",
    "    # Use cross-entropy loss function\n",
    "    criterion = nn.CrossEntropyLoss()\n",
    "    test_losses = []\n",
    "    test_accuracies = []\n",
    "    model.eval()\n",
    "    # Initialize epoch loss and accuracy\n",
    "    epoch_loss = 0.0\n",
    "    correct = 0\n",
    "    total = 0\n",
    "    # Iterate over test data\n",
    "    for inputs, labels in data_loader:\n",
    "        # Get from dataloader and send to device\n",
    "        inputs = inputs.to(device)\n",
    "        labels = labels.to(device)\n",
    "        # Compute model output and loss\n",
    "        # (No grad computation here, as it is the test data)\n",
    "        with torch.no_grad():\n",
    "            outputs = model(inputs)\n",
    "            _, predicted = torch.max(outputs.data, 1)\n",
    "            loss = criterion(outputs, labels)\n",
    "        # Accumulate loss and correct predictions for epoch\n",
    "        epoch_loss += loss.item()\n",
    "        total += labels.size(0)\n",
    "        correct += (predicted == labels).sum().item()\n",
    "        # Calculate epoch loss and accuracy\n",
    "    epoch_loss /= len(data_loader)\n",
    "    epoch_acc = correct/total\n",
    "    test_losses.append(epoch_loss)\n",
    "    test_accuracies.append(epoch_acc)\n",
    "    print(f'Test loss: {epoch_loss:.4f}, Test accuracy: {epoch_acc:.4f}')\n",
    "    return test_losses, test_accuracies"
   ]
  },
  {
   "cell_type": "code",
   "execution_count": 55,
   "id": "f1ec7be1",
   "metadata": {},
   "outputs": [
    {
     "name": "stdout",
     "output_type": "stream",
     "text": [
      "Test loss: 0.3111, Test accuracy: 0.8872\n"
     ]
    }
   ],
   "source": [
    "full_test_losses, full_test_accuracies = test(model, test_loader)"
   ]
  },
  {
   "cell_type": "code",
   "execution_count": null,
   "id": "4d075698",
   "metadata": {},
   "outputs": [],
   "source": []
  }
 ],
 "metadata": {
  "kernelspec": {
   "display_name": "Python 3 (ipykernel)",
   "language": "python",
   "name": "python3"
  },
  "language_info": {
   "codemirror_mode": {
    "name": "ipython",
    "version": 3
   },
   "file_extension": ".py",
   "mimetype": "text/x-python",
   "name": "python",
   "nbconvert_exporter": "python",
   "pygments_lexer": "ipython3",
   "version": "3.8.12"
  }
 },
 "nbformat": 4,
 "nbformat_minor": 5
}
