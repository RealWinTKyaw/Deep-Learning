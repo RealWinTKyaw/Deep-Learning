{
 "cells": [
  {
   "cell_type": "markdown",
   "id": "763a368b",
   "metadata": {},
   "source": [
    "## Imports & Setup"
   ]
  },
  {
   "cell_type": "code",
   "execution_count": 2,
   "id": "9f15cb3a",
   "metadata": {},
   "outputs": [],
   "source": [
    "import matplotlib.pyplot as plt\n",
    "import torch\n",
    "import torchvision\n",
    "from torchvision.datasets import ImageFolder\n",
    "from torchvision.transforms import ToTensor, Compose, Resize, RandomHorizontalFlip, RandomAdjustSharpness, Grayscale, Normalize\n",
    "import torch.optim as optim\n",
    "import torch.nn.functional as F\n",
    "import torch.nn as nn\n",
    "from sklearn.metrics import confusion_matrix, ConfusionMatrixDisplay, f1_score, precision_score, recall_score\n",
    "from helpers import *\n",
    "from architecture.AutoEncoder import *\n",
    "from architecture.Transformer import *"
   ]
  },
  {
   "cell_type": "code",
   "execution_count": 3,
   "id": "f9a5abc5",
   "metadata": {},
   "outputs": [
    {
     "data": {
      "text/plain": [
       "<torch._C.Generator at 0x197072876d0>"
      ]
     },
     "execution_count": 3,
     "metadata": {},
     "output_type": "execute_result"
    }
   ],
   "source": [
    "torch.manual_seed(109)"
   ]
  },
  {
   "cell_type": "code",
   "execution_count": 4,
   "id": "6f3dad15",
   "metadata": {},
   "outputs": [
    {
     "name": "stdout",
     "output_type": "stream",
     "text": [
      "cuda\n"
     ]
    }
   ],
   "source": [
    "device = torch.device(\"cuda\" if torch.cuda.is_available() else \"cpu\")\n",
    "print(device)"
   ]
  },
  {
   "cell_type": "code",
   "execution_count": 5,
   "id": "577150c8",
   "metadata": {},
   "outputs": [],
   "source": [
    "def create_adam_optimizer(model, lr = 0.1, betas=(0.9, 0.999), amsgrad=False):\n",
    "    return optim.Adam(model.parameters(), lr = lr, amsgrad=amsgrad, betas=betas)"
   ]
  },
  {
   "cell_type": "markdown",
   "id": "2b22087e",
   "metadata": {},
   "source": [
    "## Prepare Dataset"
   ]
  },
  {
   "cell_type": "code",
   "execution_count": 4,
   "id": "71c0b407",
   "metadata": {},
   "outputs": [],
   "source": [
    "size = 32\n",
    "batch_size = 128\n",
    "transformation = Compose([RandomHorizontalFlip(), Resize((size, size)), Grayscale(1),\n",
    "                          RandomAdjustSharpness(2, p=1),\n",
    "                          ToTensor(), Normalize(mean=[0.4814], std=[0.2136])])"
   ]
  },
  {
   "cell_type": "code",
   "execution_count": 5,
   "id": "6c9624ba",
   "metadata": {},
   "outputs": [],
   "source": [
    "root = 'chest_xray/train'\n",
    "train_data = create_dataset(root, transformation)\n",
    "train_loader = produce_loader(train_data, batch_size, shuffle=True)"
   ]
  },
  {
   "cell_type": "code",
   "execution_count": 6,
   "id": "5e3ea436",
   "metadata": {},
   "outputs": [],
   "source": [
    "root = 'chest_xray/test'\n",
    "test_data = create_dataset(root, transformation)\n",
    "test_loader = produce_loader(test_data, batch_size)"
   ]
  },
  {
   "cell_type": "code",
   "execution_count": 7,
   "id": "6913424b",
   "metadata": {},
   "outputs": [],
   "source": [
    "root = 'chest_xray/val'\n",
    "val_data = create_dataset(root, transformation)\n",
    "val_loader = produce_loader(val_data, batch_size)"
   ]
  },
  {
   "cell_type": "markdown",
   "id": "dc753b9b",
   "metadata": {},
   "source": [
    "## Testing Transformer (20 epochs)"
   ]
  },
  {
   "cell_type": "markdown",
   "id": "f6e33e89",
   "metadata": {},
   "source": [
    "Here, we load the Transformer model that was trained for 20 epochs and verify that its performance is reproducible."
   ]
  },
  {
   "cell_type": "code",
   "execution_count": 8,
   "id": "5acd9f39",
   "metadata": {},
   "outputs": [],
   "source": [
    "from math import floor\n",
    "# number of convolutional 'embedding' layers and their sizes\n",
    "hidden = [1, 256, 64, 32]\n",
    "\n",
    "# kernel size of convolution layers\n",
    "kernel_size = 3\n",
    "\n",
    "# window size of maxpooling layer\n",
    "window = 2\n",
    "\n",
    "# calculate final size of image\n",
    "channels = hidden[-1]\n",
    "changed_img = floor( (size-(kernel_size-1)*(len(hidden)-1)) / window )\n",
    "\n",
    "# calculate dimension of flattened image\n",
    "flattened = channels*changed_img*changed_img\n",
    "blocks = [flattened, 512, 64]"
   ]
  },
  {
   "cell_type": "code",
   "execution_count": 8,
   "id": "ee576c0e",
   "metadata": {},
   "outputs": [],
   "source": [
    "transformer = Transformer(hidden, kernel_size, window, blocks).to(device)\n",
    "transformer.load_state_dict(torch.load('./Transformer_20epochs')[\"model_state_dict\"])\n",
    "for param in transformer.parameters():\n",
    "    param.requiresGrad = False"
   ]
  },
  {
   "cell_type": "code",
   "execution_count": 9,
   "id": "e70864e2",
   "metadata": {},
   "outputs": [
    {
     "name": "stdout",
     "output_type": "stream",
     "text": [
      "Test loss: 0.3070, Test accuracy: 0.8855\n",
      "Precision: 0.8781512605042017\n",
      "Recall: 0.9789227166276346\n",
      "F1 score: 0.9258028792912514\n"
     ]
    },
    {
     "data": {
      "image/png": "[encoded data removed]",
      "text/plain": [
       "<Figure size 432x288 with 2 Axes>"
      ]
     },
     "metadata": {
      "needs_background": "light"
     },
     "output_type": "display_data"
    }
   ],
   "source": [
    "true_labels, model_preds, test_loss, test_accuracy = test(device=device, model=transformer, \n",
    "                                                          data_loader=test_loader, get_predictions=True)\n",
    "show_metrics(true_labels=true_labels, model_preds=model_preds)"
   ]
  },
  {
   "cell_type": "markdown",
   "id": "2b25052a",
   "metadata": {},
   "source": [
    "## Further Training of Transformer"
   ]
  },
  {
   "cell_type": "markdown",
   "id": "7751e353",
   "metadata": {},
   "source": [
    "Since training was not stopped early for the full 20 epochs, continue training the Transformer to verify if the performance can improve further."
   ]
  },
  {
   "cell_type": "code",
   "execution_count": 10,
   "id": "2e18939a",
   "metadata": {},
   "outputs": [],
   "source": [
    "for param in transformer.parameters():\n",
    "    param.requiresGrad = True"
   ]
  },
  {
   "cell_type": "code",
   "execution_count": 14,
   "id": "10565214",
   "metadata": {},
   "outputs": [],
   "source": [
    "optimizer = create_adam_optimizer(transformer, lr = 0.001)\n",
    "optimizer.load_state_dict(torch.load('./Transformer_20epochs')[\"optimizer_state_dict\"])"
   ]
  },
  {
   "cell_type": "code",
   "execution_count": 15,
   "id": "b294e2ac",
   "metadata": {},
   "outputs": [],
   "source": [
    "train_losses = []\n",
    "train_accuracies = []\n",
    "val_losses = []\n",
    "val_accuracies = []"
   ]
  },
  {
   "cell_type": "code",
   "execution_count": 17,
   "id": "6a3860f3",
   "metadata": {},
   "outputs": [
    {
     "name": "stdout",
     "output_type": "stream",
     "text": [
      "Epoch 1/20, Batch number: 0, Cumulated accuracy: 0.8046875\n",
      "Epoch 1/20, Batch number: 5, Cumulated accuracy: 0.8333333333333334\n",
      "Epoch 1/20, Batch number: 10, Cumulated accuracy: 0.828125\n",
      "Epoch 1/20, Batch number: 15, Cumulated accuracy: 0.82275390625\n",
      "Epoch 1/20, Batch number: 20, Cumulated accuracy: 0.8251488095238095\n",
      "Epoch 1/20, Batch number: 25, Cumulated accuracy: 0.8257211538461539\n",
      "Epoch 1/20, Batch number: 30, Cumulated accuracy: 0.8228326612903226\n",
      "Epoch 1/20, Batch number: 35, Cumulated accuracy: 0.8213975694444444\n",
      "Epoch 1/20, Batch number: 40, Cumulated accuracy: 0.8206935975609756\n",
      "Epoch 1/20, Batch number: 45, Cumulated accuracy: 0.8186141304347826\n",
      "--- Epoch 1/20: Train loss: 0.4104, Train accuracy: 0.8189\n",
      "--- Epoch 1/20: Val loss: 0.2563, Val accuracy: 0.9350\n",
      "Epoch 2/20, Batch number: 0, Cumulated accuracy: 0.8125\n",
      "Epoch 2/20, Batch number: 5, Cumulated accuracy: 0.80859375\n",
      "Epoch 2/20, Batch number: 10, Cumulated accuracy: 0.8075284090909091\n",
      "Epoch 2/20, Batch number: 15, Cumulated accuracy: 0.8115234375\n",
      "Epoch 2/20, Batch number: 20, Cumulated accuracy: 0.8158482142857143\n",
      "Epoch 2/20, Batch number: 25, Cumulated accuracy: 0.8203125\n",
      "Epoch 2/20, Batch number: 30, Cumulated accuracy: 0.8228326612903226\n",
      "Epoch 2/20, Batch number: 35, Cumulated accuracy: 0.8207465277777778\n",
      "Epoch 2/20, Batch number: 40, Cumulated accuracy: 0.8214557926829268\n",
      "Epoch 2/20, Batch number: 45, Cumulated accuracy: 0.8206521739130435\n",
      "--- Epoch 2/20: Train loss: 0.4057, Train accuracy: 0.8208\n",
      "--- Epoch 2/20: Val loss: 0.2686, Val accuracy: 0.9111\n",
      "Epoch 3/20, Batch number: 0, Cumulated accuracy: 0.8125\n",
      "Epoch 3/20, Batch number: 5, Cumulated accuracy: 0.8072916666666666\n",
      "Epoch 3/20, Batch number: 10, Cumulated accuracy: 0.8117897727272727\n",
      "Epoch 3/20, Batch number: 15, Cumulated accuracy: 0.80419921875\n",
      "Epoch 3/20, Batch number: 20, Cumulated accuracy: 0.8132440476190477\n",
      "Epoch 3/20, Batch number: 25, Cumulated accuracy: 0.8161057692307693\n",
      "Epoch 3/20, Batch number: 30, Cumulated accuracy: 0.8125\n",
      "Epoch 3/20, Batch number: 35, Cumulated accuracy: 0.8153211805555556\n",
      "Epoch 3/20, Batch number: 40, Cumulated accuracy: 0.8172637195121951\n",
      "Epoch 3/20, Batch number: 45, Cumulated accuracy: 0.8175951086956522\n",
      "--- Epoch 3/20: Train loss: 0.4182, Train accuracy: 0.8174\n",
      "--- Epoch 3/20: Val loss: 0.2482, Val accuracy: 0.9299\n",
      "Epoch 4/20, Batch number: 0, Cumulated accuracy: 0.7265625\n",
      "Epoch 4/20, Batch number: 5, Cumulated accuracy: 0.8111979166666666\n",
      "Epoch 4/20, Batch number: 10, Cumulated accuracy: 0.8217329545454546\n",
      "Epoch 4/20, Batch number: 15, Cumulated accuracy: 0.828125\n",
      "Epoch 4/20, Batch number: 20, Cumulated accuracy: 0.8299851190476191\n",
      "Epoch 4/20, Batch number: 25, Cumulated accuracy: 0.8233173076923077\n",
      "Epoch 4/20, Batch number: 30, Cumulated accuracy: 0.8225806451612904\n",
      "Epoch 4/20, Batch number: 35, Cumulated accuracy: 0.8211805555555556\n",
      "Epoch 4/20, Batch number: 40, Cumulated accuracy: 0.8205030487804879\n",
      "Epoch 4/20, Batch number: 45, Cumulated accuracy: 0.8201426630434783\n",
      "--- Epoch 4/20: Train loss: 0.4113, Train accuracy: 0.8201\n",
      "--- Epoch 4/20: Val loss: 0.2524, Val accuracy: 0.9299\n",
      "Epoch 5/20, Batch number: 0, Cumulated accuracy: 0.8046875\n",
      "Epoch 5/20, Batch number: 5, Cumulated accuracy: 0.8177083333333334\n",
      "Epoch 5/20, Batch number: 10, Cumulated accuracy: 0.8224431818181818\n",
      "Epoch 5/20, Batch number: 15, Cumulated accuracy: 0.82275390625\n",
      "Epoch 5/20, Batch number: 20, Cumulated accuracy: 0.828125\n",
      "Epoch 5/20, Batch number: 25, Cumulated accuracy: 0.8218149038461539\n",
      "Epoch 5/20, Batch number: 30, Cumulated accuracy: 0.8215725806451613\n",
      "Epoch 5/20, Batch number: 35, Cumulated accuracy: 0.8207465277777778\n",
      "Epoch 5/20, Batch number: 40, Cumulated accuracy: 0.8220274390243902\n",
      "Epoch 5/20, Batch number: 45, Cumulated accuracy: 0.8213315217391305\n",
      "--- Epoch 5/20: Train loss: 0.4024, Train accuracy: 0.8214\n",
      "--- Epoch 5/20: Val loss: 0.2507, Val accuracy: 0.9299\n",
      "Epoch 6/20, Batch number: 0, Cumulated accuracy: 0.8671875\n",
      "Epoch 6/20, Batch number: 5, Cumulated accuracy: 0.8359375\n",
      "Epoch 6/20, Batch number: 10, Cumulated accuracy: 0.8352272727272727\n",
      "Epoch 6/20, Batch number: 15, Cumulated accuracy: 0.8369140625\n",
      "Epoch 6/20, Batch number: 20, Cumulated accuracy: 0.8318452380952381\n",
      "Epoch 6/20, Batch number: 25, Cumulated accuracy: 0.8386418269230769\n",
      "Epoch 6/20, Batch number: 30, Cumulated accuracy: 0.8359375\n",
      "Epoch 6/20, Batch number: 35, Cumulated accuracy: 0.8328993055555556\n",
      "Epoch 6/20, Batch number: 40, Cumulated accuracy: 0.8288871951219512\n",
      "Epoch 6/20, Batch number: 45, Cumulated accuracy: 0.8289741847826086\n",
      "--- Epoch 6/20: Train loss: 0.3936, Train accuracy: 0.8295\n",
      "--- Epoch 6/20: Val loss: 0.2412, Val accuracy: 0.9385\n",
      "Epoch 7/20, Batch number: 0, Cumulated accuracy: 0.828125\n",
      "Epoch 7/20, Batch number: 5, Cumulated accuracy: 0.7981770833333334\n",
      "Epoch 7/20, Batch number: 10, Cumulated accuracy: 0.7933238636363636\n",
      "Epoch 7/20, Batch number: 15, Cumulated accuracy: 0.80029296875\n",
      "Epoch 7/20, Batch number: 20, Cumulated accuracy: 0.8095238095238095\n",
      "Epoch 7/20, Batch number: 25, Cumulated accuracy: 0.8131009615384616\n",
      "Epoch 7/20, Batch number: 30, Cumulated accuracy: 0.8147681451612904\n",
      "Epoch 7/20, Batch number: 35, Cumulated accuracy: 0.8174913194444444\n",
      "Epoch 7/20, Batch number: 40, Cumulated accuracy: 0.8176448170731707\n",
      "Epoch 7/20, Batch number: 45, Cumulated accuracy: 0.8191236413043478\n",
      "--- Epoch 7/20: Train loss: 0.3991, Train accuracy: 0.8187\n",
      "--- Epoch 7/20: Val loss: 0.2801, Val accuracy: 0.8974\n",
      "Epoch 8/20, Batch number: 0, Cumulated accuracy: 0.859375\n",
      "Epoch 8/20, Batch number: 5, Cumulated accuracy: 0.83203125\n",
      "Epoch 8/20, Batch number: 10, Cumulated accuracy: 0.8338068181818182\n",
      "Epoch 8/20, Batch number: 15, Cumulated accuracy: 0.83349609375\n",
      "Epoch 8/20, Batch number: 20, Cumulated accuracy: 0.8325892857142857\n",
      "Epoch 8/20, Batch number: 25, Cumulated accuracy: 0.8326322115384616\n",
      "Epoch 8/20, Batch number: 30, Cumulated accuracy: 0.8339213709677419\n",
      "Epoch 8/20, Batch number: 35, Cumulated accuracy: 0.8285590277777778\n",
      "Epoch 8/20, Batch number: 40, Cumulated accuracy: 0.8246951219512195\n",
      "Epoch 8/20, Batch number: 45, Cumulated accuracy: 0.8260869565217391\n",
      "--- Epoch 8/20: Train loss: 0.4107, Train accuracy: 0.8260\n",
      "--- Epoch 8/20: Val loss: 0.2488, Val accuracy: 0.9316\n",
      "Epoch 9/20, Batch number: 0, Cumulated accuracy: 0.7890625\n",
      "Epoch 9/20, Batch number: 5, Cumulated accuracy: 0.8072916666666666\n",
      "Epoch 9/20, Batch number: 10, Cumulated accuracy: 0.8160511363636364\n",
      "Epoch 9/20, Batch number: 15, Cumulated accuracy: 0.81884765625\n",
      "Epoch 9/20, Batch number: 20, Cumulated accuracy: 0.8125\n",
      "Epoch 9/20, Batch number: 25, Cumulated accuracy: 0.8094951923076923\n",
      "Epoch 9/20, Batch number: 30, Cumulated accuracy: 0.8044354838709677\n",
      "Epoch 9/20, Batch number: 35, Cumulated accuracy: 0.8072916666666666\n",
      "Epoch 9/20, Batch number: 40, Cumulated accuracy: 0.8092606707317073\n",
      "Epoch 9/20, Batch number: 45, Cumulated accuracy: 0.8113111413043478\n",
      "--- Epoch 9/20: Train loss: 0.4136, Train accuracy: 0.8107\n",
      "--- Epoch 9/20: Val loss: 0.2490, Val accuracy: 0.9299\n",
      "Stopped early due to increasing validation loss.\n"
     ]
    }
   ],
   "source": [
    "# continue training from 20 epochs to see if performance improves further\n",
    "tl, ta, vl, va = train(device, transformer,\n",
    "                       train_loader, val_loader, \n",
    "                       optimizer, epochs = 20)\n",
    "train_losses+=tl\n",
    "train_accuracies+=ta\n",
    "val_losses+=vl\n",
    "val_accuracies+=va"
   ]
  },
  {
   "cell_type": "code",
   "execution_count": 18,
   "id": "3c806e57",
   "metadata": {},
   "outputs": [
    {
     "name": "stdout",
     "output_type": "stream",
     "text": [
      "Test loss: 0.2682, Test accuracy: 0.9128\n",
      "Precision: 0.9122807017543859\n",
      "Recall: 0.9742388758782201\n",
      "F1 score: 0.942242355605889\n"
     ]
    },
    {
     "data": {
      "image/png": "[encoded data removed]",
      "text/plain": [
       "<Figure size 432x288 with 2 Axes>"
      ]
     },
     "metadata": {
      "needs_background": "light"
     },
     "output_type": "display_data"
    }
   ],
   "source": [
    "true_labels, model_preds, test_loss, test_accuracy = test(device=device, model=transformer, \n",
    "                                                          data_loader=test_loader, get_predictions=True)\n",
    "show_metrics(true_labels=true_labels, model_preds=model_preds)"
   ]
  },
  {
   "cell_type": "markdown",
   "id": "ea0b187a",
   "metadata": {},
   "source": [
    "## Testing Transformer Checkpoint (26 epochs)"
   ]
  },
  {
   "cell_type": "markdown",
   "id": "bcb472e6",
   "metadata": {},
   "source": [
    "Here, we load the checkpoint with the lowest validation loss at 6 epochs before training was stopped at 9 epochs and check its performance. Note that this model was thus trained for 26 epochs in total."
   ]
  },
  {
   "cell_type": "code",
   "execution_count": 16,
   "id": "c9a15829",
   "metadata": {},
   "outputs": [],
   "source": [
    "transformer.load_state_dict(torch.load('./Transformer_checkpoint')[\"model_state_dict\"])\n",
    "for param in transformer.parameters():\n",
    "    param.requiresGrad = False"
   ]
  },
  {
   "cell_type": "code",
   "execution_count": 19,
   "id": "95d32673",
   "metadata": {},
   "outputs": [
    {
     "name": "stdout",
     "output_type": "stream",
     "text": [
      "Test loss: 0.2814, Test accuracy: 0.9077\n",
      "Precision: 0.9010752688172043\n",
      "Recall: 0.9812646370023419\n",
      "F1 score: 0.9394618834080717\n"
     ]
    },
    {
     "data": {
      "image/png": "[encoded data removed]",
      "text/plain": [
       "<Figure size 432x288 with 2 Axes>"
      ]
     },
     "metadata": {
      "needs_background": "light"
     },
     "output_type": "display_data"
    }
   ],
   "source": [
    "true_labels, model_preds, test_loss, test_accuracy = test(device=device, model=transformer, \n",
    "                                                          data_loader=test_loader, get_predictions=True)\n",
    "show_metrics(true_labels=true_labels, model_preds=model_preds)"
   ]
  },
  {
   "cell_type": "markdown",
   "id": "ddaf0dae",
   "metadata": {},
   "source": [
    "## Initialise Autoencoder"
   ]
  },
  {
   "cell_type": "code",
   "execution_count": 20,
   "id": "d3260b50",
   "metadata": {},
   "outputs": [],
   "source": [
    "# number of hidden layers and their sizes\n",
    "hidden_a = [1, 32, 64, 128, 256]\n",
    "\n",
    "# kernel size of convolution layers\n",
    "kernel_size_a = 3"
   ]
  },
  {
   "cell_type": "code",
   "execution_count": 21,
   "id": "c0435d38",
   "metadata": {},
   "outputs": [],
   "source": [
    "autoencmodel = AutoEncoder(hidden_a, kernel_size_a).to(device)\n",
    "autoencmodel.load_state_dict(torch.load(\"./autoencoder256_4epochs\")[\"model_state_dict\"])\n",
    "for param in autoencmodel.parameters():\n",
    "    param.requiresGrad = False"
   ]
  },
  {
   "cell_type": "markdown",
   "id": "301162ba",
   "metadata": {},
   "source": [
    "## Transformer with Autoencoder"
   ]
  },
  {
   "cell_type": "markdown",
   "id": "ef98d071",
   "metadata": {},
   "source": [
    "Here, we load the Transformer model that was trained with the autoencoder's features for 20 epochs and verify that its performance is reproducible."
   ]
  },
  {
   "cell_type": "code",
   "execution_count": 29,
   "id": "46fb98aa",
   "metadata": {},
   "outputs": [],
   "source": [
    "from math import floor\n",
    "# number of hidden layers and their sizes\n",
    "hidden = [256, 256, 64, 32]\n",
    "\n",
    "# kernel size of convolution layers\n",
    "kernel_size = 3\n",
    "\n",
    "# window size of maxpooling layer\n",
    "window = 2\n",
    "\n",
    "# calculate final size of image\n",
    "new_size = size-(kernel_size_a-1)*(len(hidden_a)-1)\n",
    "channels = hidden[-1]\n",
    "changed_img = floor( (new_size-(kernel_size-1)*(len(hidden)-1)) / window )\n",
    "\n",
    "# calculate dimension of flattened image\n",
    "flattened = channels*changed_img*changed_img\n",
    "blocks = [flattened, 512, 64]"
   ]
  },
  {
   "cell_type": "code",
   "execution_count": 30,
   "id": "c0fee374",
   "metadata": {},
   "outputs": [],
   "source": [
    "transformer = Transformer(hidden, kernel_size, window, blocks).to(device)\n",
    "transformer.load_state_dict(torch.load('./Transformer_20epochs_withAE')[\"model_state_dict\"])\n",
    "for param in transformer.parameters():\n",
    "    param.requiresGrad = False"
   ]
  },
  {
   "cell_type": "code",
   "execution_count": 31,
   "id": "569a2de7",
   "metadata": {},
   "outputs": [
    {
     "name": "stdout",
     "output_type": "stream",
     "text": [
      "Test loss: 0.3201, Test accuracy: 0.8803\n",
      "Precision: 0.8905908096280087\n",
      "Recall: 0.9531615925058547\n",
      "F1 score: 0.9208144796380091\n"
     ]
    },
    {
     "data": {
      "image/png": "[encoded data removed]",
      "text/plain": [
       "<Figure size 432x288 with 2 Axes>"
      ]
     },
     "metadata": {
      "needs_background": "light"
     },
     "output_type": "display_data"
    }
   ],
   "source": [
    "true_labels, model_preds, test_loss, test_accuracy = test(device=device, model=transformer, \n",
    "                                                          data_loader=test_loader, autoencoder=autoencmodel,\n",
    "                                                          get_predictions=True)\n",
    "show_metrics(true_labels=true_labels, model_preds=model_preds)"
   ]
  },
  {
   "cell_type": "markdown",
   "id": "e2387bf7",
   "metadata": {},
   "source": [
    "## Further Training of Transformer with Autoencoder"
   ]
  },
  {
   "cell_type": "markdown",
   "id": "3e755585",
   "metadata": {},
   "source": [
    "Since training was not stopped early for the full 20 epochs, continue training the Transformer to verify if the performance can improve further."
   ]
  },
  {
   "cell_type": "code",
   "execution_count": 32,
   "id": "3dd4a141",
   "metadata": {},
   "outputs": [],
   "source": [
    "for param in transformer.parameters():\n",
    "    param.requiresGrad = True"
   ]
  },
  {
   "cell_type": "code",
   "execution_count": 33,
   "id": "596e873b",
   "metadata": {},
   "outputs": [],
   "source": [
    "optimizer = create_adam_optimizer(transformer, lr = 0.001)\n",
    "optimizer.load_state_dict(torch.load('./Transformer_20epochs_withAE')[\"optimizer_state_dict\"])"
   ]
  },
  {
   "cell_type": "code",
   "execution_count": 34,
   "id": "1e8526d4",
   "metadata": {},
   "outputs": [],
   "source": [
    "train_losses = []\n",
    "train_accuracies = []\n",
    "val_losses = []\n",
    "val_accuracies = []"
   ]
  },
  {
   "cell_type": "code",
   "execution_count": 36,
   "id": "520f2106",
   "metadata": {},
   "outputs": [
    {
     "name": "stdout",
     "output_type": "stream",
     "text": [
      "Epoch 1/20, Batch number: 0, Cumulated accuracy: 0.796875\n",
      "Epoch 1/20, Batch number: 5, Cumulated accuracy: 0.8255208333333334\n",
      "Epoch 1/20, Batch number: 10, Cumulated accuracy: 0.8061079545454546\n",
      "Epoch 1/20, Batch number: 15, Cumulated accuracy: 0.8037109375\n",
      "Epoch 1/20, Batch number: 20, Cumulated accuracy: 0.8035714285714286\n",
      "Epoch 1/20, Batch number: 25, Cumulated accuracy: 0.8073918269230769\n",
      "Epoch 1/20, Batch number: 30, Cumulated accuracy: 0.8044354838709677\n",
      "Epoch 1/20, Batch number: 35, Cumulated accuracy: 0.8049045138888888\n",
      "Epoch 1/20, Batch number: 40, Cumulated accuracy: 0.8027820121951219\n",
      "Epoch 1/20, Batch number: 45, Cumulated accuracy: 0.8050271739130435\n",
      "--- Epoch 1/20: Train loss: 0.4277, Train accuracy: 0.8051\n",
      "--- Epoch 1/20: Val loss: 0.3098, Val accuracy: 0.8957\n",
      "Epoch 2/20, Batch number: 0, Cumulated accuracy: 0.7890625\n",
      "Epoch 2/20, Batch number: 5, Cumulated accuracy: 0.8059895833333334\n",
      "Epoch 2/20, Batch number: 10, Cumulated accuracy: 0.8103693181818182\n",
      "Epoch 2/20, Batch number: 15, Cumulated accuracy: 0.81298828125\n",
      "Epoch 2/20, Batch number: 20, Cumulated accuracy: 0.8184523809523809\n",
      "Epoch 2/20, Batch number: 25, Cumulated accuracy: 0.8182091346153846\n",
      "Epoch 2/20, Batch number: 30, Cumulated accuracy: 0.8198084677419355\n",
      "Epoch 2/20, Batch number: 35, Cumulated accuracy: 0.818359375\n",
      "Epoch 2/20, Batch number: 40, Cumulated accuracy: 0.8180259146341463\n",
      "Epoch 2/20, Batch number: 45, Cumulated accuracy: 0.8167459239130435\n",
      "--- Epoch 2/20: Train loss: 0.4083, Train accuracy: 0.8171\n",
      "--- Epoch 2/20: Val loss: 0.2905, Val accuracy: 0.9043\n",
      "Epoch 3/20, Batch number: 0, Cumulated accuracy: 0.7421875\n",
      "Epoch 3/20, Batch number: 5, Cumulated accuracy: 0.79296875\n",
      "Epoch 3/20, Batch number: 10, Cumulated accuracy: 0.8018465909090909\n",
      "Epoch 3/20, Batch number: 15, Cumulated accuracy: 0.80908203125\n",
      "Epoch 3/20, Batch number: 20, Cumulated accuracy: 0.8098958333333334\n",
      "Epoch 3/20, Batch number: 25, Cumulated accuracy: 0.8058894230769231\n",
      "Epoch 3/20, Batch number: 30, Cumulated accuracy: 0.8049395161290323\n",
      "Epoch 3/20, Batch number: 35, Cumulated accuracy: 0.8059895833333334\n",
      "Epoch 3/20, Batch number: 40, Cumulated accuracy: 0.805640243902439\n",
      "Epoch 3/20, Batch number: 45, Cumulated accuracy: 0.8063858695652174\n",
      "--- Epoch 3/20: Train loss: 0.4252, Train accuracy: 0.8067\n",
      "--- Epoch 3/20: Val loss: 0.2950, Val accuracy: 0.8991\n",
      "Epoch 4/20, Batch number: 0, Cumulated accuracy: 0.84375\n",
      "Epoch 4/20, Batch number: 5, Cumulated accuracy: 0.83203125\n",
      "Epoch 4/20, Batch number: 10, Cumulated accuracy: 0.8125\n",
      "Epoch 4/20, Batch number: 15, Cumulated accuracy: 0.8154296875\n",
      "Epoch 4/20, Batch number: 20, Cumulated accuracy: 0.8154761904761905\n",
      "Epoch 4/20, Batch number: 25, Cumulated accuracy: 0.8118990384615384\n",
      "Epoch 4/20, Batch number: 30, Cumulated accuracy: 0.8127520161290323\n",
      "Epoch 4/20, Batch number: 35, Cumulated accuracy: 0.8138020833333334\n",
      "Epoch 4/20, Batch number: 40, Cumulated accuracy: 0.8140243902439024\n",
      "Epoch 4/20, Batch number: 45, Cumulated accuracy: 0.8123301630434783\n",
      "--- Epoch 4/20: Train loss: 0.4182, Train accuracy: 0.8125\n",
      "--- Epoch 4/20: Val loss: 0.2819, Val accuracy: 0.9077\n",
      "Epoch 5/20, Batch number: 0, Cumulated accuracy: 0.7578125\n",
      "Epoch 5/20, Batch number: 5, Cumulated accuracy: 0.8020833333333334\n",
      "Epoch 5/20, Batch number: 10, Cumulated accuracy: 0.8125\n",
      "Epoch 5/20, Batch number: 15, Cumulated accuracy: 0.82177734375\n",
      "Epoch 5/20, Batch number: 20, Cumulated accuracy: 0.8188244047619048\n",
      "Epoch 5/20, Batch number: 25, Cumulated accuracy: 0.8191105769230769\n",
      "Epoch 5/20, Batch number: 30, Cumulated accuracy: 0.8157762096774194\n",
      "Epoch 5/20, Batch number: 35, Cumulated accuracy: 0.8138020833333334\n",
      "Epoch 5/20, Batch number: 40, Cumulated accuracy: 0.8128810975609756\n",
      "Epoch 5/20, Batch number: 45, Cumulated accuracy: 0.8123301630434783\n",
      "--- Epoch 5/20: Train loss: 0.4194, Train accuracy: 0.8120\n",
      "--- Epoch 5/20: Val loss: 0.2945, Val accuracy: 0.9060\n",
      "Epoch 6/20, Batch number: 0, Cumulated accuracy: 0.859375\n",
      "Epoch 6/20, Batch number: 5, Cumulated accuracy: 0.8307291666666666\n",
      "Epoch 6/20, Batch number: 10, Cumulated accuracy: 0.8046875\n",
      "Epoch 6/20, Batch number: 15, Cumulated accuracy: 0.81689453125\n",
      "Epoch 6/20, Batch number: 20, Cumulated accuracy: 0.8214285714285714\n",
      "Epoch 6/20, Batch number: 25, Cumulated accuracy: 0.8218149038461539\n",
      "Epoch 6/20, Batch number: 30, Cumulated accuracy: 0.8205645161290323\n",
      "Epoch 6/20, Batch number: 35, Cumulated accuracy: 0.8174913194444444\n",
      "Epoch 6/20, Batch number: 40, Cumulated accuracy: 0.8172637195121951\n",
      "Epoch 6/20, Batch number: 45, Cumulated accuracy: 0.8186141304347826\n",
      "--- Epoch 6/20: Train loss: 0.4136, Train accuracy: 0.8182\n",
      "--- Epoch 6/20: Val loss: 0.2614, Val accuracy: 0.9145\n",
      "Epoch 7/20, Batch number: 0, Cumulated accuracy: 0.765625\n",
      "Epoch 7/20, Batch number: 5, Cumulated accuracy: 0.8098958333333334\n",
      "Epoch 7/20, Batch number: 10, Cumulated accuracy: 0.8075284090909091\n",
      "Epoch 7/20, Batch number: 15, Cumulated accuracy: 0.81494140625\n",
      "Epoch 7/20, Batch number: 20, Cumulated accuracy: 0.8121279761904762\n",
      "Epoch 7/20, Batch number: 25, Cumulated accuracy: 0.8125\n",
      "Epoch 7/20, Batch number: 30, Cumulated accuracy: 0.811491935483871\n",
      "Epoch 7/20, Batch number: 35, Cumulated accuracy: 0.810546875\n",
      "Epoch 7/20, Batch number: 40, Cumulated accuracy: 0.8105945121951219\n",
      "Epoch 7/20, Batch number: 45, Cumulated accuracy: 0.8080842391304348\n",
      "--- Epoch 7/20: Train loss: 0.4143, Train accuracy: 0.8077\n",
      "--- Epoch 7/20: Val loss: 0.2729, Val accuracy: 0.9111\n",
      "Epoch 8/20, Batch number: 0, Cumulated accuracy: 0.796875\n",
      "Epoch 8/20, Batch number: 5, Cumulated accuracy: 0.8020833333333334\n",
      "Epoch 8/20, Batch number: 10, Cumulated accuracy: 0.8046875\n",
      "Epoch 8/20, Batch number: 15, Cumulated accuracy: 0.80615234375\n",
      "Epoch 8/20, Batch number: 20, Cumulated accuracy: 0.8072916666666666\n",
      "Epoch 8/20, Batch number: 25, Cumulated accuracy: 0.8125\n",
      "Epoch 8/20, Batch number: 30, Cumulated accuracy: 0.811491935483871\n",
      "Epoch 8/20, Batch number: 35, Cumulated accuracy: 0.8135850694444444\n",
      "Epoch 8/20, Batch number: 40, Cumulated accuracy: 0.8132621951219512\n",
      "Epoch 8/20, Batch number: 45, Cumulated accuracy: 0.8155570652173914\n",
      "--- Epoch 8/20: Train loss: 0.4138, Train accuracy: 0.8161\n",
      "--- Epoch 8/20: Val loss: 0.2798, Val accuracy: 0.8991\n",
      "Epoch 9/20, Batch number: 0, Cumulated accuracy: 0.7578125\n",
      "Epoch 9/20, Batch number: 5, Cumulated accuracy: 0.8203125\n",
      "Epoch 9/20, Batch number: 10, Cumulated accuracy: 0.8153409090909091\n",
      "Epoch 9/20, Batch number: 15, Cumulated accuracy: 0.8212890625\n",
      "Epoch 9/20, Batch number: 20, Cumulated accuracy: 0.8180803571428571\n",
      "Epoch 9/20, Batch number: 25, Cumulated accuracy: 0.8221153846153846\n",
      "Epoch 9/20, Batch number: 30, Cumulated accuracy: 0.8167842741935484\n",
      "Epoch 9/20, Batch number: 35, Cumulated accuracy: 0.8174913194444444\n",
      "Epoch 9/20, Batch number: 40, Cumulated accuracy: 0.8182164634146342\n",
      "Epoch 9/20, Batch number: 45, Cumulated accuracy: 0.8186141304347826\n",
      "--- Epoch 9/20: Train loss: 0.4122, Train accuracy: 0.8186\n",
      "--- Epoch 9/20: Val loss: 0.2775, Val accuracy: 0.8974\n",
      "Stopped early due to increasing validation loss.\n"
     ]
    }
   ],
   "source": [
    "# continue training from 20 epochs to see if performance improves further\n",
    "tl, ta, vl, va = train(device, transformer,\n",
    "                       train_loader, val_loader, \n",
    "                       optimizer, autoencoder=autoencmodel, epochs = 20)\n",
    "train_losses+=tl\n",
    "train_accuracies+=ta\n",
    "val_losses+=vl\n",
    "val_accuracies+=va"
   ]
  },
  {
   "cell_type": "code",
   "execution_count": 38,
   "id": "8c1ddd38",
   "metadata": {},
   "outputs": [
    {
     "name": "stdout",
     "output_type": "stream",
     "text": [
      "Test loss: 0.2833, Test accuracy: 0.9043\n",
      "Precision: 0.9244851258581236\n",
      "Recall: 0.9461358313817331\n",
      "F1 score: 0.9351851851851851\n"
     ]
    },
    {
     "data": {
      "image/png": "[encoded data removed]",
      "text/plain": [
       "<Figure size 432x288 with 2 Axes>"
      ]
     },
     "metadata": {
      "needs_background": "light"
     },
     "output_type": "display_data"
    }
   ],
   "source": [
    "true_labels, model_preds, test_loss, test_accuracy = test(device=device, model=transformer, \n",
    "                                                          data_loader=test_loader, get_predictions=True,\n",
    "                                                          autoencoder=autoencmodel)\n",
    "show_metrics(true_labels=true_labels, model_preds=model_preds)"
   ]
  },
  {
   "cell_type": "code",
   "execution_count": 40,
   "id": "7335c800",
   "metadata": {},
   "outputs": [],
   "source": [
    "torch.save({'model_state_dict': transformer.state_dict(), \n",
    "            'optimizer_state_dict': optimizer.state_dict()}, \n",
    "           './Transformer_29epochs_withAE')"
   ]
  },
  {
   "cell_type": "markdown",
   "id": "9c966268",
   "metadata": {},
   "source": [
    "## Testing Transformer with Autoencoder Checkpoint (26 epochs)"
   ]
  },
  {
   "cell_type": "markdown",
   "id": "a996877a",
   "metadata": {},
   "source": [
    "Here, we load the checkpoint with the lowest validation loss at 6 epochs before training was stopped at 9 epochs and check its performance. Note that this model was thus trained for 26 epochs in total."
   ]
  },
  {
   "cell_type": "code",
   "execution_count": 41,
   "id": "105cae38",
   "metadata": {},
   "outputs": [],
   "source": [
    "transformer.load_state_dict(torch.load('./Transformer_checkpoint_withAE')[\"model_state_dict\"])\n",
    "for param in transformer.parameters():\n",
    "    param.requiresGrad = False"
   ]
  },
  {
   "cell_type": "code",
   "execution_count": 47,
   "id": "c3708f5a",
   "metadata": {},
   "outputs": [
    {
     "name": "stdout",
     "output_type": "stream",
     "text": [
      "Test loss: 0.2975, Test accuracy: 0.9009\n",
      "Precision: 0.9072847682119205\n",
      "Recall: 0.9625292740046838\n",
      "F1 score: 0.934090909090909\n"
     ]
    },
    {
     "data": {
      "image/png": "[encoded data removed]",
      "text/plain": [
       "<Figure size 432x288 with 2 Axes>"
      ]
     },
     "metadata": {
      "needs_background": "light"
     },
     "output_type": "display_data"
    }
   ],
   "source": [
    "true_labels, model_preds, test_loss, test_accuracy = test(device=device, model=transformer, \n",
    "                                                          data_loader=test_loader, get_predictions=True,\n",
    "                                                          autoencoder=autoencmodel)\n",
    "show_metrics(true_labels=true_labels, model_preds=model_preds)"
   ]
  },
  {
   "cell_type": "code",
   "execution_count": null,
   "id": "09ac58a6",
   "metadata": {},
   "outputs": [],
   "source": []
  }
 ],
 "metadata": {
  "kernelspec": {
   "display_name": "Python 3 (ipykernel)",
   "language": "python",
   "name": "python3"
  },
  "language_info": {
   "codemirror_mode": {
    "name": "ipython",
    "version": 3
   },
   "file_extension": ".py",
   "mimetype": "text/x-python",
   "name": "python",
   "nbconvert_exporter": "python",
   "pygments_lexer": "ipython3",
   "version": "3.9.12"
  }
 },
 "nbformat": 4,
 "nbformat_minor": 5
}
