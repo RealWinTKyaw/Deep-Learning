{
 "cells": [
  {
   "cell_type": "code",
   "execution_count": 1,
   "id": "9f15cb3a",
   "metadata": {},
   "outputs": [],
   "source": [
    "import matplotlib.pyplot as plt\n",
    "import torch\n",
    "import torchvision\n",
    "from torchvision.datasets import ImageFolder\n",
    "from torchvision.transforms import ToTensor, Compose, Resize, RandomHorizontalFlip, RandomAdjustSharpness, Grayscale, Normalize\n",
    "import torch.optim as optim\n",
    "import torch.nn.functional as F\n",
    "import torch.nn as nn\n",
    "from sklearn.metrics import confusion_matrix, ConfusionMatrixDisplay, f1_score, precision_score, recall_score\n",
    "from helpers import *\n",
    "from architecture.CNN import *\n",
    "from architecture.AutoEncoder import *"
   ]
  },
  {
   "cell_type": "code",
   "execution_count": 2,
   "id": "6f3dad15",
   "metadata": {},
   "outputs": [
    {
     "name": "stdout",
     "output_type": "stream",
     "text": [
      "cuda\n"
     ]
    }
   ],
   "source": [
    "device = torch.device(\"cuda\" if torch.cuda.is_available() else \"cpu\")\n",
    "print(device)"
   ]
  },
  {
   "cell_type": "code",
   "execution_count": 3,
   "id": "71c0b407",
   "metadata": {},
   "outputs": [],
   "source": [
    "size = 32\n",
    "batch_size = 128\n",
    "transformation = Compose([RandomHorizontalFlip(), Resize((size, size)), Grayscale(1),\n",
    "                          RandomAdjustSharpness(2, p=1),\n",
    "                          ToTensor(), Normalize(mean=[0.4814], std=[0.2136])])"
   ]
  },
  {
   "cell_type": "code",
   "execution_count": 4,
   "id": "5e3ea436",
   "metadata": {},
   "outputs": [],
   "source": [
    "root = 'chest_xray/test'\n",
    "test_data = create_dataset(root, transformation)\n",
    "test_loader = produce_loader(test_data, batch_size)"
   ]
  },
  {
   "cell_type": "code",
   "execution_count": 5,
   "id": "d3260b50",
   "metadata": {},
   "outputs": [],
   "source": [
    "# number of hidden layers and their sizes\n",
    "hidden_a = [1, 32, 64, 128, 256]\n",
    "\n",
    "# kernel size of convolution layers\n",
    "kernel_size_a = 3"
   ]
  },
  {
   "cell_type": "code",
   "execution_count": 6,
   "id": "c0435d38",
   "metadata": {},
   "outputs": [],
   "source": [
    "autoencmodel = AutoEncoder(hidden_a, kernel_size_a).to(device)\n",
    "autoencmodel.load_state_dict(torch.load(\"./autoencoder256_4epochs\")[\"model_state_dict\"])\n",
    "for param in autoencmodel.parameters():\n",
    "    param.requiresGrad = False"
   ]
  },
  {
   "cell_type": "markdown",
   "id": "cfbe2f2d",
   "metadata": {},
   "source": [
    "## CNN"
   ]
  },
  {
   "cell_type": "code",
   "execution_count": 7,
   "id": "26a168ab",
   "metadata": {},
   "outputs": [],
   "source": [
    "from math import floor\n",
    "# kernel size of convolution layers\n",
    "kernel_size = 3\n",
    "\n",
    "# sharp sobel kernels (will have to update if kernel size increases)\n",
    "# these will be the starting weights of the convolutional layers\n",
    "kernels = [torch.tensor([[0., -1., 0.],\n",
    "                        [-1., 5., -1.],\n",
    "                        [0., -1., 0.]]),\n",
    "           torch.tensor([[1., 2., 1.],\n",
    "                        [0., 0., 0.],\n",
    "                        [-1., -2., -1.]]),\n",
    "           torch.tensor([[1., 0., -1.],\n",
    "                        [2., 0., -2.],\n",
    "                        [1., 0., -1.]])]\n",
    "\n",
    "# number of hidden layers and their sizes\n",
    "hidden = [1, 256, 128, 64]\n",
    "\n",
    "# window size of maxpooling layer\n",
    "window = 2\n",
    "\n",
    "# calculate final size of image\n",
    "channels = hidden[-1]\n",
    "changed_img = floor( (size-(kernel_size-1)*(len(hidden)-1)) / window )\n",
    "\n",
    "# calculate dimension of flattened image\n",
    "flattened = channels*changed_img*changed_img\n",
    "\n",
    "# final linear layers and their sizes\n",
    "hidden_linear = [flattened, 512, 64]"
   ]
  },
  {
   "cell_type": "code",
   "execution_count": 8,
   "id": "3eef40d8",
   "metadata": {},
   "outputs": [],
   "source": [
    "cnn_model = DeepLearn(kernels=kernels, hidden=hidden, kernel_size=kernel_size,\n",
    "                  window=window, hidden_linear=hidden_linear).to(device)\n",
    "cnn_model.load_state_dict(torch.load('./DeepLearn_6epochs')[\"model_state_dict\"])\n",
    "for param in cnn_model.parameters():\n",
    "    param.requiresGrad = False"
   ]
  },
  {
   "cell_type": "code",
   "execution_count": 9,
   "id": "a0a661f2",
   "metadata": {},
   "outputs": [
    {
     "name": "stdout",
     "output_type": "stream",
     "text": [
      "Test loss: 0.3809, Test accuracy: 0.8615\n",
      "Precision: 0.8545081967213115\n",
      "Recall: 0.9765807962529274\n",
      "F1 score: 0.9114754098360656\n"
     ]
    },
    {
     "data": {
      "image/png": "[encoded data removed]",
      "text/plain": [
       "<Figure size 432x288 with 2 Axes>"
      ]
     },
     "metadata": {
      "needs_background": "light"
     },
     "output_type": "display_data"
    }
   ],
   "source": [
    "true_labels, model_preds, test_loss, test_accuracy = test(device=device, model=cnn_model, \n",
    "                                                          data_loader=test_loader, get_predictions=True)\n",
    "show_metrics(true_labels=true_labels, model_preds=model_preds)"
   ]
  },
  {
   "cell_type": "code",
   "execution_count": 10,
   "id": "77c3cc00",
   "metadata": {},
   "outputs": [],
   "source": [
    "cnn_model.load_state_dict(torch.load('./DeepLearn_8epochs')[\"model_state_dict\"])\n",
    "for param in cnn_model.parameters():\n",
    "    param.requiresGrad = False"
   ]
  },
  {
   "cell_type": "code",
   "execution_count": 11,
   "id": "e956288d",
   "metadata": {},
   "outputs": [
    {
     "name": "stdout",
     "output_type": "stream",
     "text": [
      "Test loss: 0.3659, Test accuracy: 0.8718\n",
      "Precision: 0.8697478991596639\n",
      "Recall: 0.9695550351288056\n",
      "F1 score: 0.9169435215946844\n"
     ]
    },
    {
     "data": {
      "image/png": "[encoded data removed]",
      "text/plain": [
       "<Figure size 432x288 with 2 Axes>"
      ]
     },
     "metadata": {
      "needs_background": "light"
     },
     "output_type": "display_data"
    }
   ],
   "source": [
    "true_labels, model_preds, test_loss, test_accuracy = test(device=device, model=cnn_model, \n",
    "                                                          data_loader=test_loader, get_predictions=True)\n",
    "show_metrics(true_labels=true_labels, model_preds=model_preds)"
   ]
  },
  {
   "cell_type": "markdown",
   "id": "7017577a",
   "metadata": {},
   "source": [
    "## CNN with AutoEncoder"
   ]
  },
  {
   "cell_type": "code",
   "execution_count": 12,
   "id": "fe2fd6a9",
   "metadata": {},
   "outputs": [],
   "source": [
    "from math import floor\n",
    "# kernel size of convolution layers\n",
    "kernel_size = 3\n",
    "\n",
    "# sharp sobel kernels (will have to update if kernel size increases)\n",
    "kernels = [torch.tensor([[0., -1., 0.],\n",
    "                        [-1., 5., -1.],\n",
    "                        [0., -1., 0.]]),\n",
    "           torch.tensor([[1., 2., 1.],\n",
    "                        [0., 0., 0.],\n",
    "                        [-1., -2., -1.]]),\n",
    "           torch.tensor([[1., 0., -1.],\n",
    "                        [2., 0., -2.],\n",
    "                        [1., 0., -1.]])]\n",
    "\n",
    "# number of hidden layers and their sizes\n",
    "hidden = [256, 256, 128, 64]\n",
    "\n",
    "# window size of maxpooling layer\n",
    "window = 2\n",
    "\n",
    "# calculate final size of image\n",
    "new_size = size-(kernel_size_a-1)*(len(hidden_a)-1)\n",
    "channels = hidden[-1]\n",
    "changed_img = floor( (new_size-(kernel_size-1)*(len(hidden)-1)) / window )\n",
    "\n",
    "# calculate dimension of flattened image\n",
    "flattened = channels*changed_img*changed_img\n",
    "\n",
    "# final linear layers and their sizes\n",
    "hidden_linear = [flattened, 512, 64]"
   ]
  },
  {
   "cell_type": "code",
   "execution_count": 13,
   "id": "fd706d8e",
   "metadata": {},
   "outputs": [],
   "source": [
    "# checkpoint saved at 11 epochs\n",
    "cnn_model = DeepLearn(kernels=kernels, hidden=hidden, kernel_size=kernel_size,\n",
    "                  window=window, hidden_linear=hidden_linear, dropout=0.5).to(device)\n",
    "cnn_model.load_state_dict(torch.load('./DeepLearn_checkpoint_withAE')[\"model_state_dict\"])\n",
    "for param in cnn_model.parameters():\n",
    "    param.requiresGrad = False"
   ]
  },
  {
   "cell_type": "code",
   "execution_count": 16,
   "id": "e54b9861",
   "metadata": {},
   "outputs": [
    {
     "name": "stdout",
     "output_type": "stream",
     "text": [
      "Test loss: 0.4319, Test accuracy: 0.8256\n",
      "Precision: 0.8479657387580299\n",
      "Recall: 0.927400468384075\n",
      "F1 score: 0.8859060402684564\n"
     ]
    },
    {
     "data": {
      "image/png": "[encoded data removed]",
      "text/plain": [
       "<Figure size 432x288 with 2 Axes>"
      ]
     },
     "metadata": {
      "needs_background": "light"
     },
     "output_type": "display_data"
    }
   ],
   "source": [
    "true_labels, model_preds, test_loss, test_accuracy = test(device=device, model=cnn_model, \n",
    "                                                          data_loader=test_loader, autoencoder=autoencmodel,\n",
    "                                                          get_predictions=True)\n",
    "show_metrics(true_labels=true_labels, model_preds=model_preds)"
   ]
  },
  {
   "cell_type": "code",
   "execution_count": null,
   "id": "51f2bcdd",
   "metadata": {},
   "outputs": [],
   "source": []
  }
 ],
 "metadata": {
  "kernelspec": {
   "display_name": "Python 3 (ipykernel)",
   "language": "python",
   "name": "python3"
  },
  "language_info": {
   "codemirror_mode": {
    "name": "ipython",
    "version": 3
   },
   "file_extension": ".py",
   "mimetype": "text/x-python",
   "name": "python",
   "nbconvert_exporter": "python",
   "pygments_lexer": "ipython3",
   "version": "3.9.12"
  }
 },
 "nbformat": 4,
 "nbformat_minor": 5
}
