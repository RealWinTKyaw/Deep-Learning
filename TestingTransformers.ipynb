{
 "cells": [
  {
   "cell_type": "markdown",
   "id": "763a368b",
   "metadata": {},
   "source": [
    "## Imports & Setup"
   ]
  },
  {
   "cell_type": "code",
   "execution_count": 1,
   "id": "9f15cb3a",
   "metadata": {},
   "outputs": [],
   "source": [
    "import matplotlib.pyplot as plt\n",
    "import torch\n",
    "import torchvision\n",
    "from torchvision.datasets import ImageFolder\n",
    "from torchvision.transforms import ToTensor, Compose, Resize, RandomHorizontalFlip, RandomAdjustSharpness, Grayscale, Normalize\n",
    "import torch.optim as optim\n",
    "import torch.nn.functional as F\n",
    "import torch.nn as nn\n",
    "from sklearn.metrics import confusion_matrix, ConfusionMatrixDisplay, f1_score, precision_score, recall_score\n",
    "from helpers import *\n",
    "from architecture.AutoEncoder import *\n",
    "from architecture.Transformer import *"
   ]
  },
  {
   "cell_type": "code",
   "execution_count": 2,
   "id": "6f3dad15",
   "metadata": {},
   "outputs": [
    {
     "name": "stdout",
     "output_type": "stream",
     "text": [
      "cuda\n"
     ]
    }
   ],
   "source": [
    "device = torch.device(\"cuda\" if torch.cuda.is_available() else \"cpu\")\n",
    "print(device)"
   ]
  },
  {
   "cell_type": "markdown",
   "id": "2b22087e",
   "metadata": {},
   "source": [
    "## Prepare Dataset"
   ]
  },
  {
   "cell_type": "code",
   "execution_count": 3,
   "id": "71c0b407",
   "metadata": {},
   "outputs": [],
   "source": [
    "size = 32\n",
    "batch_size = 128\n",
    "transformation = Compose([RandomHorizontalFlip(), Resize((size, size)), Grayscale(1),\n",
    "                          RandomAdjustSharpness(2, p=1),\n",
    "                          ToTensor(), Normalize(mean=[0.4814], std=[0.2136])])"
   ]
  },
  {
   "cell_type": "code",
   "execution_count": 4,
   "id": "5e3ea436",
   "metadata": {},
   "outputs": [],
   "source": [
    "root = 'chest_xray/test'\n",
    "test_data = create_dataset(root, transformation)\n",
    "test_loader = produce_loader(test_data, batch_size)"
   ]
  },
  {
   "cell_type": "markdown",
   "id": "dc753b9b",
   "metadata": {},
   "source": [
    "## Transformer"
   ]
  },
  {
   "cell_type": "code",
   "execution_count": 7,
   "id": "5acd9f39",
   "metadata": {},
   "outputs": [],
   "source": [
    "from math import floor\n",
    "# number of convolutional 'embedding' layers and their sizes\n",
    "hidden = [1, 256, 64, 32]\n",
    "\n",
    "# kernel size of convolution layers\n",
    "kernel_size = 3\n",
    "\n",
    "# window size of maxpooling layer\n",
    "window = 2\n",
    "\n",
    "# calculate final size of image\n",
    "channels = hidden[-1]\n",
    "changed_img = floor( (size-(kernel_size-1)*(len(hidden)-1)) / window )\n",
    "\n",
    "# calculate dimension of flattened image\n",
    "flattened = channels*changed_img*changed_img\n",
    "blocks = [flattened, 512, 64]"
   ]
  },
  {
   "cell_type": "code",
   "execution_count": 8,
   "id": "ee576c0e",
   "metadata": {},
   "outputs": [],
   "source": [
    "transformer = Transformer(hidden, kernel_size, window, blocks).to(device)\n",
    "transformer.load_state_dict(torch.load('./Transformer_3epochs')[\"model_state_dict\"])\n",
    "for param in transformer.parameters():\n",
    "    param.requiresGrad = False"
   ]
  },
  {
   "cell_type": "code",
   "execution_count": 9,
   "id": "e70864e2",
   "metadata": {},
   "outputs": [
    {
     "name": "stdout",
     "output_type": "stream",
     "text": [
      "Test loss: 0.4135, Test accuracy: 0.8632\n",
      "Precision: 0.8562628336755647\n",
      "Recall: 0.9765807962529274\n",
      "F1 score: 0.912472647702407\n"
     ]
    },
    {
     "data": {
      "image/png": "[encoded data removed]",
      "text/plain": [
       "<Figure size 432x288 with 2 Axes>"
      ]
     },
     "metadata": {
      "needs_background": "light"
     },
     "output_type": "display_data"
    }
   ],
   "source": [
    "true_labels, model_preds, test_loss, test_accuracy = test(device=device, model=transformer, \n",
    "                                                          data_loader=test_loader, get_predictions=True)\n",
    "show_metrics(true_labels=true_labels, model_preds=model_preds)"
   ]
  },
  {
   "cell_type": "code",
   "execution_count": 10,
   "id": "2e18939a",
   "metadata": {},
   "outputs": [],
   "source": [
    "# checkpoint made at 1 epoch\n",
    "transformer.load_state_dict(torch.load('./Transformer_checkpoint')[\"model_state_dict\"])\n",
    "for param in transformer.parameters():\n",
    "    param.requiresGrad = False"
   ]
  },
  {
   "cell_type": "code",
   "execution_count": 11,
   "id": "52063e30",
   "metadata": {},
   "outputs": [
    {
     "name": "stdout",
     "output_type": "stream",
     "text": [
      "Test loss: 0.3897, Test accuracy: 0.8376\n",
      "Precision: 0.8443983402489627\n",
      "Recall: 0.9531615925058547\n",
      "F1 score: 0.8954895489548954\n"
     ]
    },
    {
     "data": {
      "image/png": "[encoded data removed]",
      "text/plain": [
       "<Figure size 432x288 with 2 Axes>"
      ]
     },
     "metadata": {
      "needs_background": "light"
     },
     "output_type": "display_data"
    }
   ],
   "source": [
    "true_labels, model_preds, test_loss, test_accuracy = test(device=device, model=transformer, \n",
    "                                                          data_loader=test_loader, get_predictions=True)\n",
    "show_metrics(true_labels=true_labels, model_preds=model_preds)"
   ]
  },
  {
   "cell_type": "markdown",
   "id": "ddaf0dae",
   "metadata": {},
   "source": [
    "## Initialise Autoencoder"
   ]
  },
  {
   "cell_type": "code",
   "execution_count": 5,
   "id": "d3260b50",
   "metadata": {},
   "outputs": [],
   "source": [
    "# number of hidden layers and their sizes\n",
    "hidden_a = [1, 32, 64, 128, 256]\n",
    "\n",
    "# kernel size of convolution layers\n",
    "kernel_size_a = 3"
   ]
  },
  {
   "cell_type": "code",
   "execution_count": 6,
   "id": "c0435d38",
   "metadata": {},
   "outputs": [],
   "source": [
    "autoencmodel = AutoEncoder(hidden_a, kernel_size_a).to(device)\n",
    "autoencmodel.load_state_dict(torch.load(\"./autoencoder256_4epochs\")[\"model_state_dict\"])\n",
    "for param in autoencmodel.parameters():\n",
    "    param.requiresGrad = False"
   ]
  },
  {
   "cell_type": "markdown",
   "id": "301162ba",
   "metadata": {},
   "source": [
    "## Transformer with Autoencoder"
   ]
  },
  {
   "cell_type": "code",
   "execution_count": 12,
   "id": "46fb98aa",
   "metadata": {},
   "outputs": [],
   "source": [
    "from math import floor\n",
    "# number of hidden layers and their sizes\n",
    "hidden = [256, 256, 64, 32]\n",
    "\n",
    "# kernel size of convolution layers\n",
    "kernel_size = 3\n",
    "\n",
    "# window size of maxpooling layer\n",
    "window = 2\n",
    "\n",
    "# calculate final size of image\n",
    "new_size = size-(kernel_size_a-1)*(len(hidden_a)-1)\n",
    "channels = hidden[-1]\n",
    "changed_img = floor( (new_size-(kernel_size-1)*(len(hidden)-1)) / window )\n",
    "\n",
    "# calculate dimension of flattened image\n",
    "flattened = channels*changed_img*changed_img\n",
    "blocks = [flattened, 512, 64]"
   ]
  },
  {
   "cell_type": "code",
   "execution_count": 13,
   "id": "c0fee374",
   "metadata": {},
   "outputs": [],
   "source": [
    "transformer = Transformer(hidden, kernel_size, window, blocks).to(device)\n",
    "transformer.load_state_dict(torch.load('./Transformer_12epochs_withAE')[\"model_state_dict\"])\n",
    "for param in transformer.parameters():\n",
    "    param.requiresGrad = False"
   ]
  },
  {
   "cell_type": "code",
   "execution_count": 14,
   "id": "569a2de7",
   "metadata": {},
   "outputs": [
    {
     "name": "stdout",
     "output_type": "stream",
     "text": [
      "Test loss: 0.3533, Test accuracy: 0.8735\n",
      "Precision: 0.8779443254817987\n",
      "Recall: 0.9601873536299765\n",
      "F1 score: 0.9172259507829977\n"
     ]
    },
    {
     "data": {
      "image/png": "[encoded data removed]",
      "text/plain": [
       "<Figure size 432x288 with 2 Axes>"
      ]
     },
     "metadata": {
      "needs_background": "light"
     },
     "output_type": "display_data"
    }
   ],
   "source": [
    "true_labels, model_preds, test_loss, test_accuracy = test(device=device, model=transformer, \n",
    "                                                          data_loader=test_loader, autoencoder=autoencmodel,\n",
    "                                                          get_predictions=True)\n",
    "show_metrics(true_labels=true_labels, model_preds=model_preds)"
   ]
  },
  {
   "cell_type": "code",
   "execution_count": 15,
   "id": "494bc3aa",
   "metadata": {},
   "outputs": [],
   "source": [
    "transformer.load_state_dict(torch.load('./Transformer_15epochs_withAE')[\"model_state_dict\"])\n",
    "for param in transformer.parameters():\n",
    "    param.requiresGrad = False"
   ]
  },
  {
   "cell_type": "code",
   "execution_count": 16,
   "id": "596b2945",
   "metadata": {},
   "outputs": [
    {
     "name": "stdout",
     "output_type": "stream",
     "text": [
      "Test loss: 0.3544, Test accuracy: 0.8786\n",
      "Precision: 0.8938053097345132\n",
      "Recall: 0.9461358313817331\n",
      "F1 score: 0.919226393629124\n"
     ]
    },
    {
     "data": {
      "image/png": "[encoded data removed]",
      "text/plain": [
       "<Figure size 432x288 with 2 Axes>"
      ]
     },
     "metadata": {
      "needs_background": "light"
     },
     "output_type": "display_data"
    }
   ],
   "source": [
    "true_labels, model_preds, test_loss, test_accuracy = test(device=device, model=transformer, \n",
    "                                                          data_loader=test_loader, autoencoder=autoencmodel,\n",
    "                                                          get_predictions=True)\n",
    "show_metrics(true_labels=true_labels, model_preds=model_preds)"
   ]
  },
  {
   "cell_type": "code",
   "execution_count": 17,
   "id": "86042f77",
   "metadata": {},
   "outputs": [],
   "source": [
    "transformer.load_state_dict(torch.load('./Transformer_16epochs_withAE')[\"model_state_dict\"])\n",
    "for param in transformer.parameters():\n",
    "    param.requiresGrad = False"
   ]
  },
  {
   "cell_type": "code",
   "execution_count": 18,
   "id": "76b8fe68",
   "metadata": {},
   "outputs": [
    {
     "name": "stdout",
     "output_type": "stream",
     "text": [
      "Test loss: 0.3544, Test accuracy: 0.8701\n",
      "Precision: 0.8618556701030928\n",
      "Recall: 0.9789227166276346\n",
      "F1 score: 0.9166666666666667\n"
     ]
    },
    {
     "data": {
      "image/png": "[encoded data removed]",
      "text/plain": [
       "<Figure size 432x288 with 2 Axes>"
      ]
     },
     "metadata": {
      "needs_background": "light"
     },
     "output_type": "display_data"
    }
   ],
   "source": [
    "true_labels, model_preds, test_loss, test_accuracy = test(device=device, model=transformer, \n",
    "                                                          data_loader=test_loader, autoencoder=autoencmodel,\n",
    "                                                          get_predictions=True)\n",
    "show_metrics(true_labels=true_labels, model_preds=model_preds)"
   ]
  },
  {
   "cell_type": "code",
   "execution_count": 19,
   "id": "82982ef6",
   "metadata": {},
   "outputs": [],
   "source": [
    "transformer.load_state_dict(torch.load('./Transformer_18epochs_withAE')[\"model_state_dict\"])\n",
    "for param in transformer.parameters():\n",
    "    param.requiresGrad = False"
   ]
  },
  {
   "cell_type": "code",
   "execution_count": 20,
   "id": "fbd51f72",
   "metadata": {},
   "outputs": [
    {
     "name": "stdout",
     "output_type": "stream",
     "text": [
      "Test loss: 0.3264, Test accuracy: 0.8821\n",
      "Precision: 0.8808510638297873\n",
      "Recall: 0.9695550351288056\n",
      "F1 score: 0.9230769230769231\n"
     ]
    },
    {
     "data": {
      "image/png": "[encoded data removed]",
      "text/plain": [
       "<Figure size 432x288 with 2 Axes>"
      ]
     },
     "metadata": {
      "needs_background": "light"
     },
     "output_type": "display_data"
    }
   ],
   "source": [
    "true_labels, model_preds, test_loss, test_accuracy = test(device=device, model=transformer, \n",
    "                                                          data_loader=test_loader, autoencoder=autoencmodel,\n",
    "                                                          get_predictions=True)\n",
    "show_metrics(true_labels=true_labels, model_preds=model_preds)"
   ]
  },
  {
   "cell_type": "code",
   "execution_count": 21,
   "id": "ca19d30b",
   "metadata": {},
   "outputs": [],
   "source": [
    "transformer.load_state_dict(torch.load('./Transformer_19epochs_withAE')[\"model_state_dict\"])\n",
    "for param in transformer.parameters():\n",
    "    param.requiresGrad = False"
   ]
  },
  {
   "cell_type": "code",
   "execution_count": 22,
   "id": "bdfa894b",
   "metadata": {},
   "outputs": [
    {
     "name": "stdout",
     "output_type": "stream",
     "text": [
      "Test loss: 0.3185, Test accuracy: 0.8906\n",
      "Precision: 0.9042316258351893\n",
      "Recall: 0.9508196721311475\n",
      "F1 score: 0.9269406392694063\n"
     ]
    },
    {
     "data": {
      "image/png": "[encoded data removed]",
      "text/plain": [
       "<Figure size 432x288 with 2 Axes>"
      ]
     },
     "metadata": {
      "needs_background": "light"
     },
     "output_type": "display_data"
    }
   ],
   "source": [
    "true_labels, model_preds, test_loss, test_accuracy = test(device=device, model=transformer, \n",
    "                                                          data_loader=test_loader, autoencoder=autoencmodel,\n",
    "                                                          get_predictions=True)\n",
    "show_metrics(true_labels=true_labels, model_preds=model_preds)"
   ]
  }
 ],
 "metadata": {
  "kernelspec": {
   "display_name": "Python 3 (ipykernel)",
   "language": "python",
   "name": "python3"
  },
  "language_info": {
   "codemirror_mode": {
    "name": "ipython",
    "version": 3
   },
   "file_extension": ".py",
   "mimetype": "text/x-python",
   "name": "python",
   "nbconvert_exporter": "python",
   "pygments_lexer": "ipython3",
   "version": "3.8.12"
  }
 },
 "nbformat": 4,
 "nbformat_minor": 5
}
